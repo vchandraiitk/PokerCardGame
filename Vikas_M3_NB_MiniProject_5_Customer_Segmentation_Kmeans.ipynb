{
  "nbformat": 4,
  "nbformat_minor": 0,
  "metadata": {
    "colab": {
      "provenance": [],
      "include_colab_link": true
    },
    "kernelspec": {
      "display_name": "Python 3",
      "language": "python",
      "name": "python3"
    },
    "language_info": {
      "codemirror_mode": {
        "name": "ipython",
        "version": 3
      },
      "file_extension": ".py",
      "mimetype": "text/x-python",
      "name": "python",
      "nbconvert_exporter": "python",
      "pygments_lexer": "ipython3",
      "version": "3.6.9"
    }
  },
  "cells": [
    {
      "cell_type": "markdown",
      "metadata": {
        "id": "view-in-github",
        "colab_type": "text"
      },
      "source": [
        "<a href=\"https://colab.research.google.com/github/vchandraiitk/PokerCardGame/blob/master/Vikas_M3_NB_MiniProject_5_Customer_Segmentation_Kmeans.ipynb\" target=\"_parent\"><img src=\"https://colab.research.google.com/assets/colab-badge.svg\" alt=\"Open In Colab\"/></a>"
      ]
    },
    {
      "cell_type": "markdown",
      "metadata": {
        "id": "aUUu9l_JfJ92"
      },
      "source": [
        "# Advanced Certification Program in Computational Data Science\n",
        "\n",
        "##  A program by IISc and TalentSprint\n",
        "\n",
        "### Mini Project Notebook: Customer segmentation using clustering"
      ]
    },
    {
      "cell_type": "markdown",
      "metadata": {
        "id": "SL3yrUc-XrLS"
      },
      "source": [
        "## Learning Objectives"
      ]
    },
    {
      "cell_type": "markdown",
      "metadata": {
        "id": "7jZ3M2hjiyb0"
      },
      "source": [
        "At the end of the experiment, you will be able to :\n",
        "\n",
        "* extract summary level insight from a given customer dataset.\n",
        "\n",
        "* handle the missing data and identify the underlying pattern or structure of the data.\n",
        "\n",
        "* create an unsupervised model that generates the optimum number of segments for the customer base\n",
        "\n",
        "* identify customer segments based on the overall buying behaviour\n"
      ]
    },
    {
      "cell_type": "markdown",
      "metadata": {
        "id": "-EqvTSjZZIUE"
      },
      "source": [
        "## Dataset"
      ]
    },
    {
      "cell_type": "markdown",
      "metadata": {
        "id": "interior-simple"
      },
      "source": [
        "The dataset chosen for this mini project is the Online Retail dataset. It is a transnational data set which contains all the transactions occurring between 01/12/2010 and 09/12/2011 for a UK-based and registered non-store online retail.\n",
        "\n",
        "The dataset contains 541909 records, and each record is made up of 8 fields.\n",
        "\n",
        "To know more about the dataset : [click here](https://archive.ics.uci.edu/ml/datasets/Online+Retail)"
      ]
    },
    {
      "cell_type": "markdown",
      "metadata": {
        "id": "OnFlaGNVFJI3"
      },
      "source": [
        "## Information"
      ]
    },
    {
      "cell_type": "markdown",
      "metadata": {
        "id": "Pyj3MM1li34l"
      },
      "source": [
        "**Clustering** is the task of grouping together a set of objects so that the objects in the same cluster are more similar to each other than to objects in other clusters. Similarity is a measure that reflects the strength of the relationship between two data objects.\n",
        "\n",
        "In the clustering calculation, K-Means is a very popular algorithm. In this analysis, this method is used to cluster the similar data items.\n",
        "\n",
        "In Retail and E-Commerce (B2C), and more broadly in B2B, one of the key elements shaping the business strategy of a firm is understanding of customer behaviour. More specifically, understanding the customers based on different business metrics: how much they spend (revenue), how often they spend (frequency), are they new or existing customers, what are their favorite products, etc... Such understanding in turn helps direct marketing, sales, account management and product teams to support customers on a personalized level and improve the product offering.\n",
        "\n",
        "Furthermore, segmenting customers into different categories based on similar/cyclical buying pattern over a period of 1 year helps the retail shops manage their inventory better, thereby lowering costs and raising revenues by placing the orders in sync with the buying cycles."
      ]
    },
    {
      "cell_type": "markdown",
      "metadata": {
        "id": "eY8QnQQ_i8oy"
      },
      "source": [
        "## Problem Statement"
      ]
    },
    {
      "cell_type": "markdown",
      "metadata": {
        "id": "MhyOGhrYi8oz"
      },
      "source": [
        "Perform customer segmentation for an Online Retail using an Unsupervised Clustering technique"
      ]
    },
    {
      "cell_type": "markdown",
      "metadata": {
        "id": "operating-latter"
      },
      "source": [
        "## Grading = 10 Points"
      ]
    },
    {
      "cell_type": "markdown",
      "metadata": {
        "id": "abstract-stocks"
      },
      "source": [
        "### Import Required packages"
      ]
    },
    {
      "cell_type": "code",
      "source": [
        "from google.colab import drive\n",
        "drive.mount('/content/drive')"
      ],
      "metadata": {
        "colab": {
          "base_uri": "https://localhost:8080/"
        },
        "id": "4UwmWWgUUyBW",
        "outputId": "b506e094-3c51-400c-bb1f-caea6f33ae3e"
      },
      "execution_count": 2,
      "outputs": [
        {
          "output_type": "stream",
          "name": "stdout",
          "text": [
            "Mounted at /content/drive\n"
          ]
        }
      ]
    },
    {
      "cell_type": "code",
      "source": [
        "import os\n",
        "os.chdir('/content/drive/MyDrive/ISC/MiniProject/M3_NB_MiniProject_5_Customer_Segmentation_Kmeans')"
      ],
      "metadata": {
        "id": "XGMYE05ZVG8D"
      },
      "execution_count": 3,
      "outputs": []
    },
    {
      "cell_type": "code",
      "metadata": {
        "id": "advisory-knowing"
      },
      "source": [
        "from matplotlib import pyplot as plt\n",
        "import numpy as np\n",
        "import pandas as pd\n",
        "import seaborn as sns\n",
        "import scipy\n",
        "from sklearn.cluster import KMeans\n",
        "from sklearn.model_selection import train_test_split\n",
        "from sklearn.preprocessing import StandardScaler\n",
        "from sklearn.cluster import DBSCAN"
      ],
      "execution_count": 4,
      "outputs": []
    },
    {
      "cell_type": "markdown",
      "metadata": {
        "id": "bound-basement"
      },
      "source": [
        "## Data Wrangling"
      ]
    },
    {
      "cell_type": "code",
      "metadata": {
        "id": "PXJixnAljGfN"
      },
      "source": [
        "#@title Download the data\n",
        "#!wget -qq https://cdn.iisc.talentsprint.com/CDS/MiniProjects/Online_Retail.zip\n",
        "#!unzip -qq Online_Retail.zip"
      ],
      "execution_count": 5,
      "outputs": []
    },
    {
      "cell_type": "markdown",
      "metadata": {
        "id": "7Vu9jhC5jJHs"
      },
      "source": [
        "## Load the data"
      ]
    },
    {
      "cell_type": "code",
      "metadata": {
        "id": "RdvmgyZRdZup",
        "colab": {
          "base_uri": "https://localhost:8080/",
          "height": 363
        },
        "outputId": "cd4d7b48-b007-4ea5-e01c-bf0f43cef13a"
      },
      "source": [
        "# YOUR CODE HERE\n",
        "df_retail = pd.read_csv(\"Online_Retail_Train.csv\")\n",
        "df_retail.head(10)"
      ],
      "execution_count": 6,
      "outputs": [
        {
          "output_type": "execute_result",
          "data": {
            "text/plain": [
              "  InvoiceNo StockCode                          Description  Quantity  \\\n",
              "0    579427     22636   CHILDS BREAKFAST SET CIRCUS PARADE         2   \n",
              "1    554092     21916      SET 12 RETRO WHITE CHALK STICKS        24   \n",
              "2    577774     84692          BOX OF 24 COCKTAIL PARASOLS         6   \n",
              "3   C571196     23350              ROLL WRAP VINTAGE SPOT        -12   \n",
              "4    546649    84509a      SET OF 4 ENGLISH ROSE PLACEMATS         1   \n",
              "5    579668     23575              SNACK TRAY PAISLEY PARK         8   \n",
              "6    564758    84951A  SET OF 4 PISTACHIO LOVEBIRD COASTER         1   \n",
              "7    547684     23176               ABC TREASURE BOOK BOX          8   \n",
              "8    575878     21519      GIN & TONIC DIET GREETING CARD         12   \n",
              "9    571273     22898        CHILDRENS APRON APPLES DESIGN         8   \n",
              "\n",
              "           InvoiceDate  UnitPrice  CustomerID         Country  \n",
              "0  2011-11-29 13:04:00       8.50     16479.0  United Kingdom  \n",
              "1  2011-05-22 12:41:00       0.42     17176.0  United Kingdom  \n",
              "2  2011-11-21 15:57:00       0.42     16712.0  United Kingdom  \n",
              "3  2011-10-14 12:02:00       1.25         NaN  United Kingdom  \n",
              "4  2011-03-15 14:17:00       7.46         NaN  United Kingdom  \n",
              "5  2011-11-30 12:32:00       1.95     15152.0  United Kingdom  \n",
              "6  2011-08-30 10:39:00       2.46         NaN  United Kingdom  \n",
              "7  2011-03-24 14:46:00       2.25     12408.0         Belgium  \n",
              "8  2011-11-11 13:29:00       0.42     13588.0  United Kingdom  \n",
              "9  2011-10-16 12:21:00       1.95     13034.0  United Kingdom  "
            ],
            "text/html": [
              "\n",
              "  <div id=\"df-c4f92d54-f2a8-43d1-9334-d0f9ef65a5e7\" class=\"colab-df-container\">\n",
              "    <div>\n",
              "<style scoped>\n",
              "    .dataframe tbody tr th:only-of-type {\n",
              "        vertical-align: middle;\n",
              "    }\n",
              "\n",
              "    .dataframe tbody tr th {\n",
              "        vertical-align: top;\n",
              "    }\n",
              "\n",
              "    .dataframe thead th {\n",
              "        text-align: right;\n",
              "    }\n",
              "</style>\n",
              "<table border=\"1\" class=\"dataframe\">\n",
              "  <thead>\n",
              "    <tr style=\"text-align: right;\">\n",
              "      <th></th>\n",
              "      <th>InvoiceNo</th>\n",
              "      <th>StockCode</th>\n",
              "      <th>Description</th>\n",
              "      <th>Quantity</th>\n",
              "      <th>InvoiceDate</th>\n",
              "      <th>UnitPrice</th>\n",
              "      <th>CustomerID</th>\n",
              "      <th>Country</th>\n",
              "    </tr>\n",
              "  </thead>\n",
              "  <tbody>\n",
              "    <tr>\n",
              "      <th>0</th>\n",
              "      <td>579427</td>\n",
              "      <td>22636</td>\n",
              "      <td>CHILDS BREAKFAST SET CIRCUS PARADE</td>\n",
              "      <td>2</td>\n",
              "      <td>2011-11-29 13:04:00</td>\n",
              "      <td>8.50</td>\n",
              "      <td>16479.0</td>\n",
              "      <td>United Kingdom</td>\n",
              "    </tr>\n",
              "    <tr>\n",
              "      <th>1</th>\n",
              "      <td>554092</td>\n",
              "      <td>21916</td>\n",
              "      <td>SET 12 RETRO WHITE CHALK STICKS</td>\n",
              "      <td>24</td>\n",
              "      <td>2011-05-22 12:41:00</td>\n",
              "      <td>0.42</td>\n",
              "      <td>17176.0</td>\n",
              "      <td>United Kingdom</td>\n",
              "    </tr>\n",
              "    <tr>\n",
              "      <th>2</th>\n",
              "      <td>577774</td>\n",
              "      <td>84692</td>\n",
              "      <td>BOX OF 24 COCKTAIL PARASOLS</td>\n",
              "      <td>6</td>\n",
              "      <td>2011-11-21 15:57:00</td>\n",
              "      <td>0.42</td>\n",
              "      <td>16712.0</td>\n",
              "      <td>United Kingdom</td>\n",
              "    </tr>\n",
              "    <tr>\n",
              "      <th>3</th>\n",
              "      <td>C571196</td>\n",
              "      <td>23350</td>\n",
              "      <td>ROLL WRAP VINTAGE SPOT</td>\n",
              "      <td>-12</td>\n",
              "      <td>2011-10-14 12:02:00</td>\n",
              "      <td>1.25</td>\n",
              "      <td>NaN</td>\n",
              "      <td>United Kingdom</td>\n",
              "    </tr>\n",
              "    <tr>\n",
              "      <th>4</th>\n",
              "      <td>546649</td>\n",
              "      <td>84509a</td>\n",
              "      <td>SET OF 4 ENGLISH ROSE PLACEMATS</td>\n",
              "      <td>1</td>\n",
              "      <td>2011-03-15 14:17:00</td>\n",
              "      <td>7.46</td>\n",
              "      <td>NaN</td>\n",
              "      <td>United Kingdom</td>\n",
              "    </tr>\n",
              "    <tr>\n",
              "      <th>5</th>\n",
              "      <td>579668</td>\n",
              "      <td>23575</td>\n",
              "      <td>SNACK TRAY PAISLEY PARK</td>\n",
              "      <td>8</td>\n",
              "      <td>2011-11-30 12:32:00</td>\n",
              "      <td>1.95</td>\n",
              "      <td>15152.0</td>\n",
              "      <td>United Kingdom</td>\n",
              "    </tr>\n",
              "    <tr>\n",
              "      <th>6</th>\n",
              "      <td>564758</td>\n",
              "      <td>84951A</td>\n",
              "      <td>SET OF 4 PISTACHIO LOVEBIRD COASTER</td>\n",
              "      <td>1</td>\n",
              "      <td>2011-08-30 10:39:00</td>\n",
              "      <td>2.46</td>\n",
              "      <td>NaN</td>\n",
              "      <td>United Kingdom</td>\n",
              "    </tr>\n",
              "    <tr>\n",
              "      <th>7</th>\n",
              "      <td>547684</td>\n",
              "      <td>23176</td>\n",
              "      <td>ABC TREASURE BOOK BOX</td>\n",
              "      <td>8</td>\n",
              "      <td>2011-03-24 14:46:00</td>\n",
              "      <td>2.25</td>\n",
              "      <td>12408.0</td>\n",
              "      <td>Belgium</td>\n",
              "    </tr>\n",
              "    <tr>\n",
              "      <th>8</th>\n",
              "      <td>575878</td>\n",
              "      <td>21519</td>\n",
              "      <td>GIN &amp; TONIC DIET GREETING CARD</td>\n",
              "      <td>12</td>\n",
              "      <td>2011-11-11 13:29:00</td>\n",
              "      <td>0.42</td>\n",
              "      <td>13588.0</td>\n",
              "      <td>United Kingdom</td>\n",
              "    </tr>\n",
              "    <tr>\n",
              "      <th>9</th>\n",
              "      <td>571273</td>\n",
              "      <td>22898</td>\n",
              "      <td>CHILDRENS APRON APPLES DESIGN</td>\n",
              "      <td>8</td>\n",
              "      <td>2011-10-16 12:21:00</td>\n",
              "      <td>1.95</td>\n",
              "      <td>13034.0</td>\n",
              "      <td>United Kingdom</td>\n",
              "    </tr>\n",
              "  </tbody>\n",
              "</table>\n",
              "</div>\n",
              "    <div class=\"colab-df-buttons\">\n",
              "\n",
              "  <div class=\"colab-df-container\">\n",
              "    <button class=\"colab-df-convert\" onclick=\"convertToInteractive('df-c4f92d54-f2a8-43d1-9334-d0f9ef65a5e7')\"\n",
              "            title=\"Convert this dataframe to an interactive table.\"\n",
              "            style=\"display:none;\">\n",
              "\n",
              "  <svg xmlns=\"http://www.w3.org/2000/svg\" height=\"24px\" viewBox=\"0 -960 960 960\">\n",
              "    <path d=\"M120-120v-720h720v720H120Zm60-500h600v-160H180v160Zm220 220h160v-160H400v160Zm0 220h160v-160H400v160ZM180-400h160v-160H180v160Zm440 0h160v-160H620v160ZM180-180h160v-160H180v160Zm440 0h160v-160H620v160Z\"/>\n",
              "  </svg>\n",
              "    </button>\n",
              "\n",
              "  <style>\n",
              "    .colab-df-container {\n",
              "      display:flex;\n",
              "      gap: 12px;\n",
              "    }\n",
              "\n",
              "    .colab-df-convert {\n",
              "      background-color: #E8F0FE;\n",
              "      border: none;\n",
              "      border-radius: 50%;\n",
              "      cursor: pointer;\n",
              "      display: none;\n",
              "      fill: #1967D2;\n",
              "      height: 32px;\n",
              "      padding: 0 0 0 0;\n",
              "      width: 32px;\n",
              "    }\n",
              "\n",
              "    .colab-df-convert:hover {\n",
              "      background-color: #E2EBFA;\n",
              "      box-shadow: 0px 1px 2px rgba(60, 64, 67, 0.3), 0px 1px 3px 1px rgba(60, 64, 67, 0.15);\n",
              "      fill: #174EA6;\n",
              "    }\n",
              "\n",
              "    .colab-df-buttons div {\n",
              "      margin-bottom: 4px;\n",
              "    }\n",
              "\n",
              "    [theme=dark] .colab-df-convert {\n",
              "      background-color: #3B4455;\n",
              "      fill: #D2E3FC;\n",
              "    }\n",
              "\n",
              "    [theme=dark] .colab-df-convert:hover {\n",
              "      background-color: #434B5C;\n",
              "      box-shadow: 0px 1px 3px 1px rgba(0, 0, 0, 0.15);\n",
              "      filter: drop-shadow(0px 1px 2px rgba(0, 0, 0, 0.3));\n",
              "      fill: #FFFFFF;\n",
              "    }\n",
              "  </style>\n",
              "\n",
              "    <script>\n",
              "      const buttonEl =\n",
              "        document.querySelector('#df-c4f92d54-f2a8-43d1-9334-d0f9ef65a5e7 button.colab-df-convert');\n",
              "      buttonEl.style.display =\n",
              "        google.colab.kernel.accessAllowed ? 'block' : 'none';\n",
              "\n",
              "      async function convertToInteractive(key) {\n",
              "        const element = document.querySelector('#df-c4f92d54-f2a8-43d1-9334-d0f9ef65a5e7');\n",
              "        const dataTable =\n",
              "          await google.colab.kernel.invokeFunction('convertToInteractive',\n",
              "                                                    [key], {});\n",
              "        if (!dataTable) return;\n",
              "\n",
              "        const docLinkHtml = 'Like what you see? Visit the ' +\n",
              "          '<a target=\"_blank\" href=https://colab.research.google.com/notebooks/data_table.ipynb>data table notebook</a>'\n",
              "          + ' to learn more about interactive tables.';\n",
              "        element.innerHTML = '';\n",
              "        dataTable['output_type'] = 'display_data';\n",
              "        await google.colab.output.renderOutput(dataTable, element);\n",
              "        const docLink = document.createElement('div');\n",
              "        docLink.innerHTML = docLinkHtml;\n",
              "        element.appendChild(docLink);\n",
              "      }\n",
              "    </script>\n",
              "  </div>\n",
              "\n",
              "\n",
              "<div id=\"df-3938b7a4-9b9a-4b63-9c99-635798f4f3b5\">\n",
              "  <button class=\"colab-df-quickchart\" onclick=\"quickchart('df-3938b7a4-9b9a-4b63-9c99-635798f4f3b5')\"\n",
              "            title=\"Suggest charts\"\n",
              "            style=\"display:none;\">\n",
              "\n",
              "<svg xmlns=\"http://www.w3.org/2000/svg\" height=\"24px\"viewBox=\"0 0 24 24\"\n",
              "     width=\"24px\">\n",
              "    <g>\n",
              "        <path d=\"M19 3H5c-1.1 0-2 .9-2 2v14c0 1.1.9 2 2 2h14c1.1 0 2-.9 2-2V5c0-1.1-.9-2-2-2zM9 17H7v-7h2v7zm4 0h-2V7h2v10zm4 0h-2v-4h2v4z\"/>\n",
              "    </g>\n",
              "</svg>\n",
              "  </button>\n",
              "\n",
              "<style>\n",
              "  .colab-df-quickchart {\n",
              "      --bg-color: #E8F0FE;\n",
              "      --fill-color: #1967D2;\n",
              "      --hover-bg-color: #E2EBFA;\n",
              "      --hover-fill-color: #174EA6;\n",
              "      --disabled-fill-color: #AAA;\n",
              "      --disabled-bg-color: #DDD;\n",
              "  }\n",
              "\n",
              "  [theme=dark] .colab-df-quickchart {\n",
              "      --bg-color: #3B4455;\n",
              "      --fill-color: #D2E3FC;\n",
              "      --hover-bg-color: #434B5C;\n",
              "      --hover-fill-color: #FFFFFF;\n",
              "      --disabled-bg-color: #3B4455;\n",
              "      --disabled-fill-color: #666;\n",
              "  }\n",
              "\n",
              "  .colab-df-quickchart {\n",
              "    background-color: var(--bg-color);\n",
              "    border: none;\n",
              "    border-radius: 50%;\n",
              "    cursor: pointer;\n",
              "    display: none;\n",
              "    fill: var(--fill-color);\n",
              "    height: 32px;\n",
              "    padding: 0;\n",
              "    width: 32px;\n",
              "  }\n",
              "\n",
              "  .colab-df-quickchart:hover {\n",
              "    background-color: var(--hover-bg-color);\n",
              "    box-shadow: 0 1px 2px rgba(60, 64, 67, 0.3), 0 1px 3px 1px rgba(60, 64, 67, 0.15);\n",
              "    fill: var(--button-hover-fill-color);\n",
              "  }\n",
              "\n",
              "  .colab-df-quickchart-complete:disabled,\n",
              "  .colab-df-quickchart-complete:disabled:hover {\n",
              "    background-color: var(--disabled-bg-color);\n",
              "    fill: var(--disabled-fill-color);\n",
              "    box-shadow: none;\n",
              "  }\n",
              "\n",
              "  .colab-df-spinner {\n",
              "    border: 2px solid var(--fill-color);\n",
              "    border-color: transparent;\n",
              "    border-bottom-color: var(--fill-color);\n",
              "    animation:\n",
              "      spin 1s steps(1) infinite;\n",
              "  }\n",
              "\n",
              "  @keyframes spin {\n",
              "    0% {\n",
              "      border-color: transparent;\n",
              "      border-bottom-color: var(--fill-color);\n",
              "      border-left-color: var(--fill-color);\n",
              "    }\n",
              "    20% {\n",
              "      border-color: transparent;\n",
              "      border-left-color: var(--fill-color);\n",
              "      border-top-color: var(--fill-color);\n",
              "    }\n",
              "    30% {\n",
              "      border-color: transparent;\n",
              "      border-left-color: var(--fill-color);\n",
              "      border-top-color: var(--fill-color);\n",
              "      border-right-color: var(--fill-color);\n",
              "    }\n",
              "    40% {\n",
              "      border-color: transparent;\n",
              "      border-right-color: var(--fill-color);\n",
              "      border-top-color: var(--fill-color);\n",
              "    }\n",
              "    60% {\n",
              "      border-color: transparent;\n",
              "      border-right-color: var(--fill-color);\n",
              "    }\n",
              "    80% {\n",
              "      border-color: transparent;\n",
              "      border-right-color: var(--fill-color);\n",
              "      border-bottom-color: var(--fill-color);\n",
              "    }\n",
              "    90% {\n",
              "      border-color: transparent;\n",
              "      border-bottom-color: var(--fill-color);\n",
              "    }\n",
              "  }\n",
              "</style>\n",
              "\n",
              "  <script>\n",
              "    async function quickchart(key) {\n",
              "      const quickchartButtonEl =\n",
              "        document.querySelector('#' + key + ' button');\n",
              "      quickchartButtonEl.disabled = true;  // To prevent multiple clicks.\n",
              "      quickchartButtonEl.classList.add('colab-df-spinner');\n",
              "      try {\n",
              "        const charts = await google.colab.kernel.invokeFunction(\n",
              "            'suggestCharts', [key], {});\n",
              "      } catch (error) {\n",
              "        console.error('Error during call to suggestCharts:', error);\n",
              "      }\n",
              "      quickchartButtonEl.classList.remove('colab-df-spinner');\n",
              "      quickchartButtonEl.classList.add('colab-df-quickchart-complete');\n",
              "    }\n",
              "    (() => {\n",
              "      let quickchartButtonEl =\n",
              "        document.querySelector('#df-3938b7a4-9b9a-4b63-9c99-635798f4f3b5 button');\n",
              "      quickchartButtonEl.style.display =\n",
              "        google.colab.kernel.accessAllowed ? 'block' : 'none';\n",
              "    })();\n",
              "  </script>\n",
              "</div>\n",
              "\n",
              "    </div>\n",
              "  </div>\n"
            ],
            "application/vnd.google.colaboratory.intrinsic+json": {
              "type": "dataframe",
              "variable_name": "df_retail"
            }
          },
          "metadata": {},
          "execution_count": 6
        }
      ]
    },
    {
      "cell_type": "markdown",
      "metadata": {
        "id": "vtV_KWBLUzRk"
      },
      "source": [
        "## Data Pre-processing (2 points)"
      ]
    },
    {
      "cell_type": "markdown",
      "metadata": {
        "id": "VcCVvb_RjPxy"
      },
      "source": [
        "Explore the dataset by performing the following operations:\n",
        "\n",
        "* There is a lot of redundant data. Identify such data and take appropriate action.\n",
        "\n",
        "  **Hint:** refer to this [link](https://pandas.pydata.org/pandas-docs/stable/reference/api/pandas.DataFrame.drop_duplicates.html)\n",
        "\n",
        "* Most Invoices appear as normal transactions with positive quantity and prices, but there are some prefixed with \"C\" or \"A\" which denote different transaction types. Invoice starting with C represents cancelled order and A represents the Adjusted. Identify such data and take appropriate action.\n",
        "\n",
        "  **Hint:** Check the negative values in Quantity column for all cancelled orders\n",
        "\n",
        "* Handle the null values by dropping or filling with appropriate mean\n",
        "\n",
        "\n",
        "* Some of the transactions based on the `StockCode` variable are not actually products, but representing the costs or fees regarding to the post or bank or other tansactions. Find such data and handle it accordingly.\n",
        "\n",
        "  Hint:\n",
        "    - The transaction with `'POST' 'PADS' 'M' 'DOT' 'C2' 'BANK CHARGES'` as their `StockCodes` are considered as irrelevant transactions.\n",
        "\n",
        "* Identify the outliers in the UntiPrice and Quantity and handle them accordingly.\n",
        "\n",
        "  **Hint:** [link](https://thecleverprogrammer.com/2023/07/26/detect-and-remove-outliers-using-python/)\n",
        "\n",
        "* Create a DayOfWeek column using `InvoiceDate`, Hint: pd.to_datetime()\n",
        "\n",
        "**Note:** Perform all the above operations using a function to reuse and apply the same for test data."
      ]
    },
    {
      "cell_type": "code",
      "metadata": {
        "id": "Lj5VPXN1dZuq",
        "colab": {
          "base_uri": "https://localhost:8080/"
        },
        "outputId": "dc76c3ea-bf73-4fea-d5cd-f22cdc2f6300"
      },
      "source": [
        "# YOUR CODE HERE\n",
        "#Dropping Duplicate Data\n",
        "intial = len(df_retail)\n",
        "df_retail.drop_duplicates(inplace=True)\n",
        "final = len(df_retail)\n",
        "rows_dropped = intial - final\n",
        "print(f'Intial Rows={intial} Final Rows= {final} Number of rows dropped: {rows_dropped}')"
      ],
      "execution_count": 7,
      "outputs": [
        {
          "output_type": "stream",
          "name": "stdout",
          "text": [
            "Intial Rows=514813 Final Rows= 510059 Number of rows dropped: 4754\n"
          ]
        }
      ]
    },
    {
      "cell_type": "code",
      "source": [
        "df_retail = df_retail.query('Quantity >= 0')"
      ],
      "metadata": {
        "id": "_7dFK_PM7EMG"
      },
      "execution_count": 8,
      "outputs": []
    },
    {
      "cell_type": "code",
      "source": [
        "#Handling negative quantity\n",
        "df_retail.head()"
      ],
      "metadata": {
        "colab": {
          "base_uri": "https://localhost:8080/",
          "height": 206
        },
        "id": "obxFGwnR1U-m",
        "outputId": "f3bd3305-a430-49ef-d56b-88c33ee33548"
      },
      "execution_count": 9,
      "outputs": [
        {
          "output_type": "execute_result",
          "data": {
            "text/plain": [
              "  InvoiceNo StockCode                         Description  Quantity  \\\n",
              "0    579427     22636  CHILDS BREAKFAST SET CIRCUS PARADE         2   \n",
              "1    554092     21916     SET 12 RETRO WHITE CHALK STICKS        24   \n",
              "2    577774     84692         BOX OF 24 COCKTAIL PARASOLS         6   \n",
              "4    546649    84509a     SET OF 4 ENGLISH ROSE PLACEMATS         1   \n",
              "5    579668     23575             SNACK TRAY PAISLEY PARK         8   \n",
              "\n",
              "           InvoiceDate  UnitPrice  CustomerID         Country  \n",
              "0  2011-11-29 13:04:00       8.50     16479.0  United Kingdom  \n",
              "1  2011-05-22 12:41:00       0.42     17176.0  United Kingdom  \n",
              "2  2011-11-21 15:57:00       0.42     16712.0  United Kingdom  \n",
              "4  2011-03-15 14:17:00       7.46         NaN  United Kingdom  \n",
              "5  2011-11-30 12:32:00       1.95     15152.0  United Kingdom  "
            ],
            "text/html": [
              "\n",
              "  <div id=\"df-9c5eb259-b7a2-4f64-a96f-311c8a432dca\" class=\"colab-df-container\">\n",
              "    <div>\n",
              "<style scoped>\n",
              "    .dataframe tbody tr th:only-of-type {\n",
              "        vertical-align: middle;\n",
              "    }\n",
              "\n",
              "    .dataframe tbody tr th {\n",
              "        vertical-align: top;\n",
              "    }\n",
              "\n",
              "    .dataframe thead th {\n",
              "        text-align: right;\n",
              "    }\n",
              "</style>\n",
              "<table border=\"1\" class=\"dataframe\">\n",
              "  <thead>\n",
              "    <tr style=\"text-align: right;\">\n",
              "      <th></th>\n",
              "      <th>InvoiceNo</th>\n",
              "      <th>StockCode</th>\n",
              "      <th>Description</th>\n",
              "      <th>Quantity</th>\n",
              "      <th>InvoiceDate</th>\n",
              "      <th>UnitPrice</th>\n",
              "      <th>CustomerID</th>\n",
              "      <th>Country</th>\n",
              "    </tr>\n",
              "  </thead>\n",
              "  <tbody>\n",
              "    <tr>\n",
              "      <th>0</th>\n",
              "      <td>579427</td>\n",
              "      <td>22636</td>\n",
              "      <td>CHILDS BREAKFAST SET CIRCUS PARADE</td>\n",
              "      <td>2</td>\n",
              "      <td>2011-11-29 13:04:00</td>\n",
              "      <td>8.50</td>\n",
              "      <td>16479.0</td>\n",
              "      <td>United Kingdom</td>\n",
              "    </tr>\n",
              "    <tr>\n",
              "      <th>1</th>\n",
              "      <td>554092</td>\n",
              "      <td>21916</td>\n",
              "      <td>SET 12 RETRO WHITE CHALK STICKS</td>\n",
              "      <td>24</td>\n",
              "      <td>2011-05-22 12:41:00</td>\n",
              "      <td>0.42</td>\n",
              "      <td>17176.0</td>\n",
              "      <td>United Kingdom</td>\n",
              "    </tr>\n",
              "    <tr>\n",
              "      <th>2</th>\n",
              "      <td>577774</td>\n",
              "      <td>84692</td>\n",
              "      <td>BOX OF 24 COCKTAIL PARASOLS</td>\n",
              "      <td>6</td>\n",
              "      <td>2011-11-21 15:57:00</td>\n",
              "      <td>0.42</td>\n",
              "      <td>16712.0</td>\n",
              "      <td>United Kingdom</td>\n",
              "    </tr>\n",
              "    <tr>\n",
              "      <th>4</th>\n",
              "      <td>546649</td>\n",
              "      <td>84509a</td>\n",
              "      <td>SET OF 4 ENGLISH ROSE PLACEMATS</td>\n",
              "      <td>1</td>\n",
              "      <td>2011-03-15 14:17:00</td>\n",
              "      <td>7.46</td>\n",
              "      <td>NaN</td>\n",
              "      <td>United Kingdom</td>\n",
              "    </tr>\n",
              "    <tr>\n",
              "      <th>5</th>\n",
              "      <td>579668</td>\n",
              "      <td>23575</td>\n",
              "      <td>SNACK TRAY PAISLEY PARK</td>\n",
              "      <td>8</td>\n",
              "      <td>2011-11-30 12:32:00</td>\n",
              "      <td>1.95</td>\n",
              "      <td>15152.0</td>\n",
              "      <td>United Kingdom</td>\n",
              "    </tr>\n",
              "  </tbody>\n",
              "</table>\n",
              "</div>\n",
              "    <div class=\"colab-df-buttons\">\n",
              "\n",
              "  <div class=\"colab-df-container\">\n",
              "    <button class=\"colab-df-convert\" onclick=\"convertToInteractive('df-9c5eb259-b7a2-4f64-a96f-311c8a432dca')\"\n",
              "            title=\"Convert this dataframe to an interactive table.\"\n",
              "            style=\"display:none;\">\n",
              "\n",
              "  <svg xmlns=\"http://www.w3.org/2000/svg\" height=\"24px\" viewBox=\"0 -960 960 960\">\n",
              "    <path d=\"M120-120v-720h720v720H120Zm60-500h600v-160H180v160Zm220 220h160v-160H400v160Zm0 220h160v-160H400v160ZM180-400h160v-160H180v160Zm440 0h160v-160H620v160ZM180-180h160v-160H180v160Zm440 0h160v-160H620v160Z\"/>\n",
              "  </svg>\n",
              "    </button>\n",
              "\n",
              "  <style>\n",
              "    .colab-df-container {\n",
              "      display:flex;\n",
              "      gap: 12px;\n",
              "    }\n",
              "\n",
              "    .colab-df-convert {\n",
              "      background-color: #E8F0FE;\n",
              "      border: none;\n",
              "      border-radius: 50%;\n",
              "      cursor: pointer;\n",
              "      display: none;\n",
              "      fill: #1967D2;\n",
              "      height: 32px;\n",
              "      padding: 0 0 0 0;\n",
              "      width: 32px;\n",
              "    }\n",
              "\n",
              "    .colab-df-convert:hover {\n",
              "      background-color: #E2EBFA;\n",
              "      box-shadow: 0px 1px 2px rgba(60, 64, 67, 0.3), 0px 1px 3px 1px rgba(60, 64, 67, 0.15);\n",
              "      fill: #174EA6;\n",
              "    }\n",
              "\n",
              "    .colab-df-buttons div {\n",
              "      margin-bottom: 4px;\n",
              "    }\n",
              "\n",
              "    [theme=dark] .colab-df-convert {\n",
              "      background-color: #3B4455;\n",
              "      fill: #D2E3FC;\n",
              "    }\n",
              "\n",
              "    [theme=dark] .colab-df-convert:hover {\n",
              "      background-color: #434B5C;\n",
              "      box-shadow: 0px 1px 3px 1px rgba(0, 0, 0, 0.15);\n",
              "      filter: drop-shadow(0px 1px 2px rgba(0, 0, 0, 0.3));\n",
              "      fill: #FFFFFF;\n",
              "    }\n",
              "  </style>\n",
              "\n",
              "    <script>\n",
              "      const buttonEl =\n",
              "        document.querySelector('#df-9c5eb259-b7a2-4f64-a96f-311c8a432dca button.colab-df-convert');\n",
              "      buttonEl.style.display =\n",
              "        google.colab.kernel.accessAllowed ? 'block' : 'none';\n",
              "\n",
              "      async function convertToInteractive(key) {\n",
              "        const element = document.querySelector('#df-9c5eb259-b7a2-4f64-a96f-311c8a432dca');\n",
              "        const dataTable =\n",
              "          await google.colab.kernel.invokeFunction('convertToInteractive',\n",
              "                                                    [key], {});\n",
              "        if (!dataTable) return;\n",
              "\n",
              "        const docLinkHtml = 'Like what you see? Visit the ' +\n",
              "          '<a target=\"_blank\" href=https://colab.research.google.com/notebooks/data_table.ipynb>data table notebook</a>'\n",
              "          + ' to learn more about interactive tables.';\n",
              "        element.innerHTML = '';\n",
              "        dataTable['output_type'] = 'display_data';\n",
              "        await google.colab.output.renderOutput(dataTable, element);\n",
              "        const docLink = document.createElement('div');\n",
              "        docLink.innerHTML = docLinkHtml;\n",
              "        element.appendChild(docLink);\n",
              "      }\n",
              "    </script>\n",
              "  </div>\n",
              "\n",
              "\n",
              "<div id=\"df-29111c0e-00b9-4a54-9a65-87faf9b9115b\">\n",
              "  <button class=\"colab-df-quickchart\" onclick=\"quickchart('df-29111c0e-00b9-4a54-9a65-87faf9b9115b')\"\n",
              "            title=\"Suggest charts\"\n",
              "            style=\"display:none;\">\n",
              "\n",
              "<svg xmlns=\"http://www.w3.org/2000/svg\" height=\"24px\"viewBox=\"0 0 24 24\"\n",
              "     width=\"24px\">\n",
              "    <g>\n",
              "        <path d=\"M19 3H5c-1.1 0-2 .9-2 2v14c0 1.1.9 2 2 2h14c1.1 0 2-.9 2-2V5c0-1.1-.9-2-2-2zM9 17H7v-7h2v7zm4 0h-2V7h2v10zm4 0h-2v-4h2v4z\"/>\n",
              "    </g>\n",
              "</svg>\n",
              "  </button>\n",
              "\n",
              "<style>\n",
              "  .colab-df-quickchart {\n",
              "      --bg-color: #E8F0FE;\n",
              "      --fill-color: #1967D2;\n",
              "      --hover-bg-color: #E2EBFA;\n",
              "      --hover-fill-color: #174EA6;\n",
              "      --disabled-fill-color: #AAA;\n",
              "      --disabled-bg-color: #DDD;\n",
              "  }\n",
              "\n",
              "  [theme=dark] .colab-df-quickchart {\n",
              "      --bg-color: #3B4455;\n",
              "      --fill-color: #D2E3FC;\n",
              "      --hover-bg-color: #434B5C;\n",
              "      --hover-fill-color: #FFFFFF;\n",
              "      --disabled-bg-color: #3B4455;\n",
              "      --disabled-fill-color: #666;\n",
              "  }\n",
              "\n",
              "  .colab-df-quickchart {\n",
              "    background-color: var(--bg-color);\n",
              "    border: none;\n",
              "    border-radius: 50%;\n",
              "    cursor: pointer;\n",
              "    display: none;\n",
              "    fill: var(--fill-color);\n",
              "    height: 32px;\n",
              "    padding: 0;\n",
              "    width: 32px;\n",
              "  }\n",
              "\n",
              "  .colab-df-quickchart:hover {\n",
              "    background-color: var(--hover-bg-color);\n",
              "    box-shadow: 0 1px 2px rgba(60, 64, 67, 0.3), 0 1px 3px 1px rgba(60, 64, 67, 0.15);\n",
              "    fill: var(--button-hover-fill-color);\n",
              "  }\n",
              "\n",
              "  .colab-df-quickchart-complete:disabled,\n",
              "  .colab-df-quickchart-complete:disabled:hover {\n",
              "    background-color: var(--disabled-bg-color);\n",
              "    fill: var(--disabled-fill-color);\n",
              "    box-shadow: none;\n",
              "  }\n",
              "\n",
              "  .colab-df-spinner {\n",
              "    border: 2px solid var(--fill-color);\n",
              "    border-color: transparent;\n",
              "    border-bottom-color: var(--fill-color);\n",
              "    animation:\n",
              "      spin 1s steps(1) infinite;\n",
              "  }\n",
              "\n",
              "  @keyframes spin {\n",
              "    0% {\n",
              "      border-color: transparent;\n",
              "      border-bottom-color: var(--fill-color);\n",
              "      border-left-color: var(--fill-color);\n",
              "    }\n",
              "    20% {\n",
              "      border-color: transparent;\n",
              "      border-left-color: var(--fill-color);\n",
              "      border-top-color: var(--fill-color);\n",
              "    }\n",
              "    30% {\n",
              "      border-color: transparent;\n",
              "      border-left-color: var(--fill-color);\n",
              "      border-top-color: var(--fill-color);\n",
              "      border-right-color: var(--fill-color);\n",
              "    }\n",
              "    40% {\n",
              "      border-color: transparent;\n",
              "      border-right-color: var(--fill-color);\n",
              "      border-top-color: var(--fill-color);\n",
              "    }\n",
              "    60% {\n",
              "      border-color: transparent;\n",
              "      border-right-color: var(--fill-color);\n",
              "    }\n",
              "    80% {\n",
              "      border-color: transparent;\n",
              "      border-right-color: var(--fill-color);\n",
              "      border-bottom-color: var(--fill-color);\n",
              "    }\n",
              "    90% {\n",
              "      border-color: transparent;\n",
              "      border-bottom-color: var(--fill-color);\n",
              "    }\n",
              "  }\n",
              "</style>\n",
              "\n",
              "  <script>\n",
              "    async function quickchart(key) {\n",
              "      const quickchartButtonEl =\n",
              "        document.querySelector('#' + key + ' button');\n",
              "      quickchartButtonEl.disabled = true;  // To prevent multiple clicks.\n",
              "      quickchartButtonEl.classList.add('colab-df-spinner');\n",
              "      try {\n",
              "        const charts = await google.colab.kernel.invokeFunction(\n",
              "            'suggestCharts', [key], {});\n",
              "      } catch (error) {\n",
              "        console.error('Error during call to suggestCharts:', error);\n",
              "      }\n",
              "      quickchartButtonEl.classList.remove('colab-df-spinner');\n",
              "      quickchartButtonEl.classList.add('colab-df-quickchart-complete');\n",
              "    }\n",
              "    (() => {\n",
              "      let quickchartButtonEl =\n",
              "        document.querySelector('#df-29111c0e-00b9-4a54-9a65-87faf9b9115b button');\n",
              "      quickchartButtonEl.style.display =\n",
              "        google.colab.kernel.accessAllowed ? 'block' : 'none';\n",
              "    })();\n",
              "  </script>\n",
              "</div>\n",
              "\n",
              "    </div>\n",
              "  </div>\n"
            ],
            "application/vnd.google.colaboratory.intrinsic+json": {
              "type": "dataframe",
              "variable_name": "df_retail"
            }
          },
          "metadata": {},
          "execution_count": 9
        }
      ]
    },
    {
      "cell_type": "code",
      "source": [
        "df_retail.shape"
      ],
      "metadata": {
        "colab": {
          "base_uri": "https://localhost:8080/"
        },
        "id": "9IwUS4JW5Bqv",
        "outputId": "fb891581-b975-4ac8-90c9-f7edb10424bf"
      },
      "execution_count": 10,
      "outputs": [
        {
          "output_type": "execute_result",
          "data": {
            "text/plain": [
              "(500009, 8)"
            ]
          },
          "metadata": {},
          "execution_count": 10
        }
      ]
    },
    {
      "cell_type": "code",
      "source": [
        "df_retail = df_retail.query(\"StockCode  not in ('POST', 'PADS', 'M', 'DOT', 'C2')\")"
      ],
      "metadata": {
        "id": "iyiTRRUH2biP"
      },
      "execution_count": 11,
      "outputs": []
    },
    {
      "cell_type": "code",
      "source": [
        "#df_retail.dropna(axis = 1, how = 'any', inplace=True)\n",
        "df_retail.dropna(subset=[\"CustomerID\"], inplace=True)"
      ],
      "metadata": {
        "id": "m71PVBhpEUl5"
      },
      "execution_count": 12,
      "outputs": []
    },
    {
      "cell_type": "code",
      "source": [
        "df_retail.head()"
      ],
      "metadata": {
        "colab": {
          "base_uri": "https://localhost:8080/",
          "height": 206
        },
        "id": "qhYlnk1YF1N9",
        "outputId": "3c3469c0-379c-4d31-c650-59cf4ac8829c"
      },
      "execution_count": 13,
      "outputs": [
        {
          "output_type": "execute_result",
          "data": {
            "text/plain": [
              "  InvoiceNo StockCode                         Description  Quantity  \\\n",
              "0    579427     22636  CHILDS BREAKFAST SET CIRCUS PARADE         2   \n",
              "1    554092     21916     SET 12 RETRO WHITE CHALK STICKS        24   \n",
              "2    577774     84692         BOX OF 24 COCKTAIL PARASOLS         6   \n",
              "5    579668     23575             SNACK TRAY PAISLEY PARK         8   \n",
              "7    547684     23176              ABC TREASURE BOOK BOX          8   \n",
              "\n",
              "           InvoiceDate  UnitPrice  CustomerID         Country  \n",
              "0  2011-11-29 13:04:00       8.50     16479.0  United Kingdom  \n",
              "1  2011-05-22 12:41:00       0.42     17176.0  United Kingdom  \n",
              "2  2011-11-21 15:57:00       0.42     16712.0  United Kingdom  \n",
              "5  2011-11-30 12:32:00       1.95     15152.0  United Kingdom  \n",
              "7  2011-03-24 14:46:00       2.25     12408.0         Belgium  "
            ],
            "text/html": [
              "\n",
              "  <div id=\"df-df647102-ea8c-4e2c-b2d5-ce6ddfe1e82d\" class=\"colab-df-container\">\n",
              "    <div>\n",
              "<style scoped>\n",
              "    .dataframe tbody tr th:only-of-type {\n",
              "        vertical-align: middle;\n",
              "    }\n",
              "\n",
              "    .dataframe tbody tr th {\n",
              "        vertical-align: top;\n",
              "    }\n",
              "\n",
              "    .dataframe thead th {\n",
              "        text-align: right;\n",
              "    }\n",
              "</style>\n",
              "<table border=\"1\" class=\"dataframe\">\n",
              "  <thead>\n",
              "    <tr style=\"text-align: right;\">\n",
              "      <th></th>\n",
              "      <th>InvoiceNo</th>\n",
              "      <th>StockCode</th>\n",
              "      <th>Description</th>\n",
              "      <th>Quantity</th>\n",
              "      <th>InvoiceDate</th>\n",
              "      <th>UnitPrice</th>\n",
              "      <th>CustomerID</th>\n",
              "      <th>Country</th>\n",
              "    </tr>\n",
              "  </thead>\n",
              "  <tbody>\n",
              "    <tr>\n",
              "      <th>0</th>\n",
              "      <td>579427</td>\n",
              "      <td>22636</td>\n",
              "      <td>CHILDS BREAKFAST SET CIRCUS PARADE</td>\n",
              "      <td>2</td>\n",
              "      <td>2011-11-29 13:04:00</td>\n",
              "      <td>8.50</td>\n",
              "      <td>16479.0</td>\n",
              "      <td>United Kingdom</td>\n",
              "    </tr>\n",
              "    <tr>\n",
              "      <th>1</th>\n",
              "      <td>554092</td>\n",
              "      <td>21916</td>\n",
              "      <td>SET 12 RETRO WHITE CHALK STICKS</td>\n",
              "      <td>24</td>\n",
              "      <td>2011-05-22 12:41:00</td>\n",
              "      <td>0.42</td>\n",
              "      <td>17176.0</td>\n",
              "      <td>United Kingdom</td>\n",
              "    </tr>\n",
              "    <tr>\n",
              "      <th>2</th>\n",
              "      <td>577774</td>\n",
              "      <td>84692</td>\n",
              "      <td>BOX OF 24 COCKTAIL PARASOLS</td>\n",
              "      <td>6</td>\n",
              "      <td>2011-11-21 15:57:00</td>\n",
              "      <td>0.42</td>\n",
              "      <td>16712.0</td>\n",
              "      <td>United Kingdom</td>\n",
              "    </tr>\n",
              "    <tr>\n",
              "      <th>5</th>\n",
              "      <td>579668</td>\n",
              "      <td>23575</td>\n",
              "      <td>SNACK TRAY PAISLEY PARK</td>\n",
              "      <td>8</td>\n",
              "      <td>2011-11-30 12:32:00</td>\n",
              "      <td>1.95</td>\n",
              "      <td>15152.0</td>\n",
              "      <td>United Kingdom</td>\n",
              "    </tr>\n",
              "    <tr>\n",
              "      <th>7</th>\n",
              "      <td>547684</td>\n",
              "      <td>23176</td>\n",
              "      <td>ABC TREASURE BOOK BOX</td>\n",
              "      <td>8</td>\n",
              "      <td>2011-03-24 14:46:00</td>\n",
              "      <td>2.25</td>\n",
              "      <td>12408.0</td>\n",
              "      <td>Belgium</td>\n",
              "    </tr>\n",
              "  </tbody>\n",
              "</table>\n",
              "</div>\n",
              "    <div class=\"colab-df-buttons\">\n",
              "\n",
              "  <div class=\"colab-df-container\">\n",
              "    <button class=\"colab-df-convert\" onclick=\"convertToInteractive('df-df647102-ea8c-4e2c-b2d5-ce6ddfe1e82d')\"\n",
              "            title=\"Convert this dataframe to an interactive table.\"\n",
              "            style=\"display:none;\">\n",
              "\n",
              "  <svg xmlns=\"http://www.w3.org/2000/svg\" height=\"24px\" viewBox=\"0 -960 960 960\">\n",
              "    <path d=\"M120-120v-720h720v720H120Zm60-500h600v-160H180v160Zm220 220h160v-160H400v160Zm0 220h160v-160H400v160ZM180-400h160v-160H180v160Zm440 0h160v-160H620v160ZM180-180h160v-160H180v160Zm440 0h160v-160H620v160Z\"/>\n",
              "  </svg>\n",
              "    </button>\n",
              "\n",
              "  <style>\n",
              "    .colab-df-container {\n",
              "      display:flex;\n",
              "      gap: 12px;\n",
              "    }\n",
              "\n",
              "    .colab-df-convert {\n",
              "      background-color: #E8F0FE;\n",
              "      border: none;\n",
              "      border-radius: 50%;\n",
              "      cursor: pointer;\n",
              "      display: none;\n",
              "      fill: #1967D2;\n",
              "      height: 32px;\n",
              "      padding: 0 0 0 0;\n",
              "      width: 32px;\n",
              "    }\n",
              "\n",
              "    .colab-df-convert:hover {\n",
              "      background-color: #E2EBFA;\n",
              "      box-shadow: 0px 1px 2px rgba(60, 64, 67, 0.3), 0px 1px 3px 1px rgba(60, 64, 67, 0.15);\n",
              "      fill: #174EA6;\n",
              "    }\n",
              "\n",
              "    .colab-df-buttons div {\n",
              "      margin-bottom: 4px;\n",
              "    }\n",
              "\n",
              "    [theme=dark] .colab-df-convert {\n",
              "      background-color: #3B4455;\n",
              "      fill: #D2E3FC;\n",
              "    }\n",
              "\n",
              "    [theme=dark] .colab-df-convert:hover {\n",
              "      background-color: #434B5C;\n",
              "      box-shadow: 0px 1px 3px 1px rgba(0, 0, 0, 0.15);\n",
              "      filter: drop-shadow(0px 1px 2px rgba(0, 0, 0, 0.3));\n",
              "      fill: #FFFFFF;\n",
              "    }\n",
              "  </style>\n",
              "\n",
              "    <script>\n",
              "      const buttonEl =\n",
              "        document.querySelector('#df-df647102-ea8c-4e2c-b2d5-ce6ddfe1e82d button.colab-df-convert');\n",
              "      buttonEl.style.display =\n",
              "        google.colab.kernel.accessAllowed ? 'block' : 'none';\n",
              "\n",
              "      async function convertToInteractive(key) {\n",
              "        const element = document.querySelector('#df-df647102-ea8c-4e2c-b2d5-ce6ddfe1e82d');\n",
              "        const dataTable =\n",
              "          await google.colab.kernel.invokeFunction('convertToInteractive',\n",
              "                                                    [key], {});\n",
              "        if (!dataTable) return;\n",
              "\n",
              "        const docLinkHtml = 'Like what you see? Visit the ' +\n",
              "          '<a target=\"_blank\" href=https://colab.research.google.com/notebooks/data_table.ipynb>data table notebook</a>'\n",
              "          + ' to learn more about interactive tables.';\n",
              "        element.innerHTML = '';\n",
              "        dataTable['output_type'] = 'display_data';\n",
              "        await google.colab.output.renderOutput(dataTable, element);\n",
              "        const docLink = document.createElement('div');\n",
              "        docLink.innerHTML = docLinkHtml;\n",
              "        element.appendChild(docLink);\n",
              "      }\n",
              "    </script>\n",
              "  </div>\n",
              "\n",
              "\n",
              "<div id=\"df-b7fa65f4-4d95-4d7b-92e9-80cea82cbdba\">\n",
              "  <button class=\"colab-df-quickchart\" onclick=\"quickchart('df-b7fa65f4-4d95-4d7b-92e9-80cea82cbdba')\"\n",
              "            title=\"Suggest charts\"\n",
              "            style=\"display:none;\">\n",
              "\n",
              "<svg xmlns=\"http://www.w3.org/2000/svg\" height=\"24px\"viewBox=\"0 0 24 24\"\n",
              "     width=\"24px\">\n",
              "    <g>\n",
              "        <path d=\"M19 3H5c-1.1 0-2 .9-2 2v14c0 1.1.9 2 2 2h14c1.1 0 2-.9 2-2V5c0-1.1-.9-2-2-2zM9 17H7v-7h2v7zm4 0h-2V7h2v10zm4 0h-2v-4h2v4z\"/>\n",
              "    </g>\n",
              "</svg>\n",
              "  </button>\n",
              "\n",
              "<style>\n",
              "  .colab-df-quickchart {\n",
              "      --bg-color: #E8F0FE;\n",
              "      --fill-color: #1967D2;\n",
              "      --hover-bg-color: #E2EBFA;\n",
              "      --hover-fill-color: #174EA6;\n",
              "      --disabled-fill-color: #AAA;\n",
              "      --disabled-bg-color: #DDD;\n",
              "  }\n",
              "\n",
              "  [theme=dark] .colab-df-quickchart {\n",
              "      --bg-color: #3B4455;\n",
              "      --fill-color: #D2E3FC;\n",
              "      --hover-bg-color: #434B5C;\n",
              "      --hover-fill-color: #FFFFFF;\n",
              "      --disabled-bg-color: #3B4455;\n",
              "      --disabled-fill-color: #666;\n",
              "  }\n",
              "\n",
              "  .colab-df-quickchart {\n",
              "    background-color: var(--bg-color);\n",
              "    border: none;\n",
              "    border-radius: 50%;\n",
              "    cursor: pointer;\n",
              "    display: none;\n",
              "    fill: var(--fill-color);\n",
              "    height: 32px;\n",
              "    padding: 0;\n",
              "    width: 32px;\n",
              "  }\n",
              "\n",
              "  .colab-df-quickchart:hover {\n",
              "    background-color: var(--hover-bg-color);\n",
              "    box-shadow: 0 1px 2px rgba(60, 64, 67, 0.3), 0 1px 3px 1px rgba(60, 64, 67, 0.15);\n",
              "    fill: var(--button-hover-fill-color);\n",
              "  }\n",
              "\n",
              "  .colab-df-quickchart-complete:disabled,\n",
              "  .colab-df-quickchart-complete:disabled:hover {\n",
              "    background-color: var(--disabled-bg-color);\n",
              "    fill: var(--disabled-fill-color);\n",
              "    box-shadow: none;\n",
              "  }\n",
              "\n",
              "  .colab-df-spinner {\n",
              "    border: 2px solid var(--fill-color);\n",
              "    border-color: transparent;\n",
              "    border-bottom-color: var(--fill-color);\n",
              "    animation:\n",
              "      spin 1s steps(1) infinite;\n",
              "  }\n",
              "\n",
              "  @keyframes spin {\n",
              "    0% {\n",
              "      border-color: transparent;\n",
              "      border-bottom-color: var(--fill-color);\n",
              "      border-left-color: var(--fill-color);\n",
              "    }\n",
              "    20% {\n",
              "      border-color: transparent;\n",
              "      border-left-color: var(--fill-color);\n",
              "      border-top-color: var(--fill-color);\n",
              "    }\n",
              "    30% {\n",
              "      border-color: transparent;\n",
              "      border-left-color: var(--fill-color);\n",
              "      border-top-color: var(--fill-color);\n",
              "      border-right-color: var(--fill-color);\n",
              "    }\n",
              "    40% {\n",
              "      border-color: transparent;\n",
              "      border-right-color: var(--fill-color);\n",
              "      border-top-color: var(--fill-color);\n",
              "    }\n",
              "    60% {\n",
              "      border-color: transparent;\n",
              "      border-right-color: var(--fill-color);\n",
              "    }\n",
              "    80% {\n",
              "      border-color: transparent;\n",
              "      border-right-color: var(--fill-color);\n",
              "      border-bottom-color: var(--fill-color);\n",
              "    }\n",
              "    90% {\n",
              "      border-color: transparent;\n",
              "      border-bottom-color: var(--fill-color);\n",
              "    }\n",
              "  }\n",
              "</style>\n",
              "\n",
              "  <script>\n",
              "    async function quickchart(key) {\n",
              "      const quickchartButtonEl =\n",
              "        document.querySelector('#' + key + ' button');\n",
              "      quickchartButtonEl.disabled = true;  // To prevent multiple clicks.\n",
              "      quickchartButtonEl.classList.add('colab-df-spinner');\n",
              "      try {\n",
              "        const charts = await google.colab.kernel.invokeFunction(\n",
              "            'suggestCharts', [key], {});\n",
              "      } catch (error) {\n",
              "        console.error('Error during call to suggestCharts:', error);\n",
              "      }\n",
              "      quickchartButtonEl.classList.remove('colab-df-spinner');\n",
              "      quickchartButtonEl.classList.add('colab-df-quickchart-complete');\n",
              "    }\n",
              "    (() => {\n",
              "      let quickchartButtonEl =\n",
              "        document.querySelector('#df-b7fa65f4-4d95-4d7b-92e9-80cea82cbdba button');\n",
              "      quickchartButtonEl.style.display =\n",
              "        google.colab.kernel.accessAllowed ? 'block' : 'none';\n",
              "    })();\n",
              "  </script>\n",
              "</div>\n",
              "\n",
              "    </div>\n",
              "  </div>\n"
            ],
            "application/vnd.google.colaboratory.intrinsic+json": {
              "type": "dataframe",
              "variable_name": "df_retail"
            }
          },
          "metadata": {},
          "execution_count": 13
        }
      ]
    },
    {
      "cell_type": "code",
      "source": [
        "df_retail['DayOfWeek']=pd.to_datetime(df_retail.InvoiceDate).dt.day"
      ],
      "metadata": {
        "id": "qqGYLBHB8AtM"
      },
      "execution_count": 14,
      "outputs": []
    },
    {
      "cell_type": "code",
      "source": [
        "def remove_outliers_iqr(df):\n",
        "    # Select only numerical columns\n",
        "    num_df = df[['Quantity', 'UnitPrice']]\n",
        "    #print(\"---------\")\n",
        "    print(num_df)\n",
        "    # Calculate Q1 (25th percentile) and Q3 (75th percentile) for each column\n",
        "    Q1 = num_df.quantile(0.25)\n",
        "    Q3 = num_df.quantile(0.75)\n",
        "    IQR = Q3 - Q1\n",
        "\n",
        "    # Define bounds for outliers\n",
        "    lower_bound = Q1 - 1.5 * IQR\n",
        "    upper_bound = Q3 + 1.5 * IQR\n",
        "\n",
        "    # Filter the DataFrame to remove outliers\n",
        "    no_outliers_df = df[~((num_df < lower_bound) | (num_df > upper_bound)).any(axis=1)]\n",
        "    return no_outliers_df\n",
        "df_retail = remove_outliers_iqr(df_retail)"
      ],
      "metadata": {
        "colab": {
          "base_uri": "https://localhost:8080/"
        },
        "id": "zQC4OaDR_-72",
        "outputId": "3c8819f6-9779-4141-ae0c-4c09f1e3c2e1"
      },
      "execution_count": 15,
      "outputs": [
        {
          "output_type": "stream",
          "name": "stdout",
          "text": [
            "        Quantity  UnitPrice\n",
            "0              2       8.50\n",
            "1             24       0.42\n",
            "2              6       0.42\n",
            "5              8       1.95\n",
            "7              8       2.25\n",
            "...          ...        ...\n",
            "514803        24       0.12\n",
            "514806         2       1.65\n",
            "514808         3       1.25\n",
            "514809        12       2.95\n",
            "514812         3       5.95\n",
            "\n",
            "[371979 rows x 2 columns]\n"
          ]
        }
      ]
    },
    {
      "cell_type": "markdown",
      "metadata": {
        "id": "graphic-vampire"
      },
      "source": [
        "## Understanding new insights from the data (1 point)"
      ]
    },
    {
      "cell_type": "markdown",
      "metadata": {
        "id": "furnished-station"
      },
      "source": [
        "1.  Are there any free items in the data? How many are there?\n",
        "\n",
        "2.  Find the number of transactions per country and visualize using an appropriate plot\n",
        "\n",
        "3.  What is the ratio of customers who are repeat purchasers vs single-time purchasers? Visualize using an appropriate plot.\n",
        "\n",
        "4. Plot heatmap showing unit price per month and day of the week\n",
        "\n",
        "  **Hint:** Month name as index on Y-axis, Day of the week on X-axis\n",
        "\n",
        "5. Find the top 10 customers who bought the most no.of items. Also find the top 10 Items bought by most no.of customers."
      ]
    },
    {
      "cell_type": "code",
      "metadata": {
        "id": "Fe-6_IuzFJJM",
        "colab": {
          "base_uri": "https://localhost:8080/"
        },
        "outputId": "6a895c50-b856-4ec4-a23a-cbebff47729d"
      },
      "source": [
        "# YOUR CODE HERE\n",
        "#Are there any free items in the data? How many are there?\n",
        "print(f\"We have {df_retail.query('UnitPrice == 0').shape[0]} Free Items in data set\")"
      ],
      "execution_count": 16,
      "outputs": [
        {
          "output_type": "stream",
          "name": "stdout",
          "text": [
            "We have 24 Free Items in data set\n"
          ]
        }
      ]
    },
    {
      "cell_type": "code",
      "source": [
        "df_retail.groupby('Country').size().sort_values(ascending=False)"
      ],
      "metadata": {
        "colab": {
          "base_uri": "https://localhost:8080/"
        },
        "id": "OkSpAyOZEHXo",
        "outputId": "6b95ad0f-2518-42ba-d3ea-31e0254f56f8"
      },
      "execution_count": 17,
      "outputs": [
        {
          "output_type": "execute_result",
          "data": {
            "text/plain": [
              "Country\n",
              "United Kingdom          285546\n",
              "Germany                   7051\n",
              "France                    6533\n",
              "EIRE                      5154\n",
              "Spain                     1937\n",
              "Belgium                   1585\n",
              "Switzerland               1369\n",
              "Portugal                  1187\n",
              "Norway                     735\n",
              "Netherlands                586\n",
              "Italy                      579\n",
              "Channel Islands            519\n",
              "Finland                    497\n",
              "Australia                  490\n",
              "Cyprus                     451\n",
              "Austria                    328\n",
              "Denmark                    283\n",
              "Poland                     242\n",
              "Sweden                     233\n",
              "Unspecified                202\n",
              "Israel                     181\n",
              "Iceland                    155\n",
              "USA                        149\n",
              "Singapore                  141\n",
              "Greece                     117\n",
              "Canada                     117\n",
              "Japan                      104\n",
              "Malta                       86\n",
              "United Arab Emirates        53\n",
              "European Community          43\n",
              "RSA                         42\n",
              "Lebanon                     31\n",
              "Lithuania                   27\n",
              "Brazil                      25\n",
              "Czech Republic              18\n",
              "Bahrain                      9\n",
              "Saudi Arabia                 8\n",
              "dtype: int64"
            ]
          },
          "metadata": {},
          "execution_count": 17
        }
      ]
    },
    {
      "cell_type": "code",
      "source": [
        "plt.figure(figsize=(10,6))\n",
        "df_retail.Country.value_counts().plot(kind='bar')\n",
        "plt.title('Transactions per country')\n",
        "plt.xlabel('Country')\n",
        "plt.ylabel('Transactions')\n",
        "plt.show()"
      ],
      "metadata": {
        "colab": {
          "base_uri": "https://localhost:8080/",
          "height": 701
        },
        "id": "oqs1JS04Dxpr",
        "outputId": "ee422650-baa2-4450-98fa-de82572f9f32"
      },
      "execution_count": 18,
      "outputs": [
        {
          "output_type": "display_data",
          "data": {
            "text/plain": [
              "<Figure size 1000x600 with 1 Axes>"
            ],
            "image/png": "[encoded data removed]"
          },
          "metadata": {}
        }
      ]
    },
    {
      "cell_type": "code",
      "source": [
        "#What is the ratio of customers who are repeat purchasers vs single-time purchasers? Visualize using an appropriate plot."
      ],
      "metadata": {
        "id": "-lR-yDhJGaWq"
      },
      "execution_count": 19,
      "outputs": []
    },
    {
      "cell_type": "code",
      "source": [
        "df_customer = df_retail.groupby('CustomerID').size().reset_index(name='Count')"
      ],
      "metadata": {
        "id": "bkysZt0oIEMo"
      },
      "execution_count": 20,
      "outputs": []
    },
    {
      "cell_type": "code",
      "source": [
        "# Calculate the ratios\n",
        "repeat_purchasers = df_customer[df_customer['Count'] > 1].shape[0]\n",
        "single_time_purchasers = df_customer[df_customer['Count'] == 1].shape[0]\n",
        "total_customers = repeat_purchasers + single_time_purchasers\n",
        "repeat_ratio = repeat_purchasers / total_customers\n",
        "single_time_ratio = single_time_purchasers / total_customers\n",
        "\n",
        "# Create a DataFrame for visualization\n",
        "ratios_df = pd.DataFrame({\n",
        "    'Category': ['Repeat Customers', 'Single-time Customers'],\n",
        "    'Ratio': [repeat_ratio, single_time_ratio]\n",
        "})\n",
        "\n",
        "# Plot the ratios\n",
        "plt.figure(figsize=(8, 6))\n",
        "plt.pie(ratios_df['Ratio'], labels=ratios_df['Category'], autopct='%1.1f%%')\n",
        "plt.title('Ratio of Repeat Customers vs Single-time Customers')\n",
        "plt.axis('equal')  # Equal aspect ratio ensures the pie chart is circular.\n",
        "plt.show()"
      ],
      "metadata": {
        "colab": {
          "base_uri": "https://localhost:8080/",
          "height": 521
        },
        "id": "672JjOhmKFT9",
        "outputId": "f54f0008-5f56-42f7-f1cf-26c30621f8a2"
      },
      "execution_count": 21,
      "outputs": [
        {
          "output_type": "display_data",
          "data": {
            "text/plain": [
              "<Figure size 800x600 with 1 Axes>"
            ],
            "image/png": "[encoded data removed]"
          },
          "metadata": {}
        }
      ]
    },
    {
      "cell_type": "code",
      "source": [
        "#Plot heatmap showing unit price per month and day of the week\n",
        "# Extract month from InvoiceDate\n",
        "df_retail['Month'] = pd.to_datetime(df_retail.InvoiceDate).dt.month\n",
        "\n",
        "# Group by Month and DayOfWeek and calculate the mean UnitPrice\n",
        "heatmap_data = df_retail.groupby(['Month', 'DayOfWeek'])['UnitPrice'].mean().unstack()\n",
        "\n",
        "# Plotting the heatmap\n",
        "plt.figure(figsize=(25, 15))\n",
        "sns.heatmap(heatmap_data, annot=True, fmt=\".2f\", cmap='coolwarm')\n",
        "plt.title('Heatmap of Unit Price per Month and Day of the Week')\n",
        "plt.xlabel('Day of the Week')\n",
        "plt.ylabel('Month')\n",
        "plt.show()"
      ],
      "metadata": {
        "colab": {
          "base_uri": "https://localhost:8080/",
          "height": 924
        },
        "id": "XtONQztAN5im",
        "outputId": "d2dea6e9-13e4-42fd-87a5-dfeeba2a9063"
      },
      "execution_count": 22,
      "outputs": [
        {
          "output_type": "display_data",
          "data": {
            "text/plain": [
              "<Figure size 2500x1500 with 2 Axes>"
            ],
            "image/png": "[encoded data removed]"
          },
          "metadata": {}
        }
      ]
    },
    {
      "cell_type": "code",
      "source": [
        "#Find the top 10 customers who bought the most no.of items.\n",
        "quantity_sum_by_customer = df_retail.groupby('CustomerID')['Quantity'].sum().reset_index()\n",
        "top_10_customers = quantity_sum_by_customer.nlargest(10, 'Quantity')\n",
        "print(\"Top 10 Customers by Quantity:\")\n",
        "print(top_10_customers)"
      ],
      "metadata": {
        "colab": {
          "base_uri": "https://localhost:8080/"
        },
        "id": "FzmLxZYlLlnG",
        "outputId": "107b6ff3-f505-4a9b-a079-4fa0fc9205f1"
      },
      "execution_count": 23,
      "outputs": [
        {
          "output_type": "stream",
          "name": "stdout",
          "text": [
            "Top 10 Customers by Quantity:\n",
            "      CustomerID  Quantity\n",
            "1825     14911.0     46783\n",
            "542      13089.0     19477\n",
            "3880     17841.0     18508\n",
            "1389     14298.0     16611\n",
            "323      12748.0     14297\n",
            "1248     14096.0     12837\n",
            "538      13081.0     11480\n",
            "2002     15159.0      7683\n",
            "2109     15311.0      7604\n",
            "430      12921.0      7486\n"
          ]
        }
      ]
    },
    {
      "cell_type": "code",
      "source": [
        "#Also find the top 10 Items bought by most no.of customers.\n",
        "quantity_sum_by_items = df_retail.groupby('StockCode')['Quantity'].sum().reset_index()\n",
        "top_10_items = quantity_sum_by_items.nlargest(10, 'Quantity')\n",
        "print(\"Top 10 Items by Quantity:\")\n",
        "print(top_10_items)"
      ],
      "metadata": {
        "colab": {
          "base_uri": "https://localhost:8080/"
        },
        "id": "mg_BkIqXMyub",
        "outputId": "0efac482-8e85-47d1-c451-86b27df68179"
      },
      "execution_count": 24,
      "outputs": [
        {
          "output_type": "stream",
          "name": "stdout",
          "text": [
            "Top 10 Items by Quantity:\n",
            "     StockCode  Quantity\n",
            "412      21212     14322\n",
            "2855     84879     12841\n",
            "3003    85099B     11587\n",
            "3017    85123A     10220\n",
            "165      20725      9408\n",
            "1902     23203      8477\n",
            "1039     22197      8415\n",
            "1690     22961      8248\n",
            "870      21977      8092\n",
            "2916     84991      7959\n"
          ]
        }
      ]
    },
    {
      "cell_type": "markdown",
      "metadata": {
        "id": "royal-chancellor"
      },
      "source": [
        "## Feature Engineering and Transformation (2 points)"
      ]
    },
    {
      "cell_type": "markdown",
      "metadata": {
        "id": "dietary-willow"
      },
      "source": [
        "### Create new features to uncover better insights and drop the unwanted columns\n",
        "\n",
        "* Create a new column which represents Total amount spent by each customer\n",
        "\n",
        "    **Hint:** Quantity * UnitPrice\n",
        "\n",
        "* Customer IDs are seen to be repeated. Maintain unique customer IDs by grouping and summing up all possible observations per customer.\n",
        "\n",
        "    **Hint:** [pandas.groupby.agg](https://pandas.pydata.org/pandas-docs/version/0.22/generated/pandas.core.groupby.DataFrameGroupBy.agg.html)\n",
        "\n",
        "**Note:** Perform the above operations in function, to reuse and apply the same for test data"
      ]
    },
    {
      "cell_type": "code",
      "metadata": {
        "id": "WCRODVjAdZuu"
      },
      "source": [
        "# YOUR CODE HERE\n",
        "#Create a new column which represents Total amount spent by each customer\n",
        "df_retail['TotalAmount'] = df_retail['Quantity'] * df_retail['UnitPrice']"
      ],
      "execution_count": 25,
      "outputs": []
    },
    {
      "cell_type": "code",
      "source": [
        "#unique customer IDs by grouping and summing up all possible observations per customer\n",
        "df_retail.groupby('CustomerID')[['Quantity', 'TotalAmount']].sum().reset_index()"
      ],
      "metadata": {
        "colab": {
          "base_uri": "https://localhost:8080/",
          "height": 424
        },
        "id": "ofu5_1NURbOq",
        "outputId": "bee01e08-5ab7-4e33-f31a-b8099947ee39"
      },
      "execution_count": 29,
      "outputs": [
        {
          "output_type": "execute_result",
          "data": {
            "text/plain": [
              "      CustomerID  Quantity  TotalAmount\n",
              "0        12347.0      1787      3096.53\n",
              "1        12348.0       140        90.20\n",
              "2        12349.0       513       977.51\n",
              "3        12350.0       196       294.40\n",
              "4        12352.0       500      1130.94\n",
              "...          ...       ...          ...\n",
              "4181     18280.0        40       137.00\n",
              "4182     18281.0        52        46.92\n",
              "4183     18282.0        49        99.63\n",
              "4184     18283.0      1287      1896.08\n",
              "4185     18287.0       766       932.86\n",
              "\n",
              "[4186 rows x 3 columns]"
            ],
            "text/html": [
              "\n",
              "  <div id=\"df-74c06bdc-cef3-46ef-8fbb-a4c465095a7e\" class=\"colab-df-container\">\n",
              "    <div>\n",
              "<style scoped>\n",
              "    .dataframe tbody tr th:only-of-type {\n",
              "        vertical-align: middle;\n",
              "    }\n",
              "\n",
              "    .dataframe tbody tr th {\n",
              "        vertical-align: top;\n",
              "    }\n",
              "\n",
              "    .dataframe thead th {\n",
              "        text-align: right;\n",
              "    }\n",
              "</style>\n",
              "<table border=\"1\" class=\"dataframe\">\n",
              "  <thead>\n",
              "    <tr style=\"text-align: right;\">\n",
              "      <th></th>\n",
              "      <th>CustomerID</th>\n",
              "      <th>Quantity</th>\n",
              "      <th>TotalAmount</th>\n",
              "    </tr>\n",
              "  </thead>\n",
              "  <tbody>\n",
              "    <tr>\n",
              "      <th>0</th>\n",
              "      <td>12347.0</td>\n",
              "      <td>1787</td>\n",
              "      <td>3096.53</td>\n",
              "    </tr>\n",
              "    <tr>\n",
              "      <th>1</th>\n",
              "      <td>12348.0</td>\n",
              "      <td>140</td>\n",
              "      <td>90.20</td>\n",
              "    </tr>\n",
              "    <tr>\n",
              "      <th>2</th>\n",
              "      <td>12349.0</td>\n",
              "      <td>513</td>\n",
              "      <td>977.51</td>\n",
              "    </tr>\n",
              "    <tr>\n",
              "      <th>3</th>\n",
              "      <td>12350.0</td>\n",
              "      <td>196</td>\n",
              "      <td>294.40</td>\n",
              "    </tr>\n",
              "    <tr>\n",
              "      <th>4</th>\n",
              "      <td>12352.0</td>\n",
              "      <td>500</td>\n",
              "      <td>1130.94</td>\n",
              "    </tr>\n",
              "    <tr>\n",
              "      <th>...</th>\n",
              "      <td>...</td>\n",
              "      <td>...</td>\n",
              "      <td>...</td>\n",
              "    </tr>\n",
              "    <tr>\n",
              "      <th>4181</th>\n",
              "      <td>18280.0</td>\n",
              "      <td>40</td>\n",
              "      <td>137.00</td>\n",
              "    </tr>\n",
              "    <tr>\n",
              "      <th>4182</th>\n",
              "      <td>18281.0</td>\n",
              "      <td>52</td>\n",
              "      <td>46.92</td>\n",
              "    </tr>\n",
              "    <tr>\n",
              "      <th>4183</th>\n",
              "      <td>18282.0</td>\n",
              "      <td>49</td>\n",
              "      <td>99.63</td>\n",
              "    </tr>\n",
              "    <tr>\n",
              "      <th>4184</th>\n",
              "      <td>18283.0</td>\n",
              "      <td>1287</td>\n",
              "      <td>1896.08</td>\n",
              "    </tr>\n",
              "    <tr>\n",
              "      <th>4185</th>\n",
              "      <td>18287.0</td>\n",
              "      <td>766</td>\n",
              "      <td>932.86</td>\n",
              "    </tr>\n",
              "  </tbody>\n",
              "</table>\n",
              "<p>4186 rows × 3 columns</p>\n",
              "</div>\n",
              "    <div class=\"colab-df-buttons\">\n",
              "\n",
              "  <div class=\"colab-df-container\">\n",
              "    <button class=\"colab-df-convert\" onclick=\"convertToInteractive('df-74c06bdc-cef3-46ef-8fbb-a4c465095a7e')\"\n",
              "            title=\"Convert this dataframe to an interactive table.\"\n",
              "            style=\"display:none;\">\n",
              "\n",
              "  <svg xmlns=\"http://www.w3.org/2000/svg\" height=\"24px\" viewBox=\"0 -960 960 960\">\n",
              "    <path d=\"M120-120v-720h720v720H120Zm60-500h600v-160H180v160Zm220 220h160v-160H400v160Zm0 220h160v-160H400v160ZM180-400h160v-160H180v160Zm440 0h160v-160H620v160ZM180-180h160v-160H180v160Zm440 0h160v-160H620v160Z\"/>\n",
              "  </svg>\n",
              "    </button>\n",
              "\n",
              "  <style>\n",
              "    .colab-df-container {\n",
              "      display:flex;\n",
              "      gap: 12px;\n",
              "    }\n",
              "\n",
              "    .colab-df-convert {\n",
              "      background-color: #E8F0FE;\n",
              "      border: none;\n",
              "      border-radius: 50%;\n",
              "      cursor: pointer;\n",
              "      display: none;\n",
              "      fill: #1967D2;\n",
              "      height: 32px;\n",
              "      padding: 0 0 0 0;\n",
              "      width: 32px;\n",
              "    }\n",
              "\n",
              "    .colab-df-convert:hover {\n",
              "      background-color: #E2EBFA;\n",
              "      box-shadow: 0px 1px 2px rgba(60, 64, 67, 0.3), 0px 1px 3px 1px rgba(60, 64, 67, 0.15);\n",
              "      fill: #174EA6;\n",
              "    }\n",
              "\n",
              "    .colab-df-buttons div {\n",
              "      margin-bottom: 4px;\n",
              "    }\n",
              "\n",
              "    [theme=dark] .colab-df-convert {\n",
              "      background-color: #3B4455;\n",
              "      fill: #D2E3FC;\n",
              "    }\n",
              "\n",
              "    [theme=dark] .colab-df-convert:hover {\n",
              "      background-color: #434B5C;\n",
              "      box-shadow: 0px 1px 3px 1px rgba(0, 0, 0, 0.15);\n",
              "      filter: drop-shadow(0px 1px 2px rgba(0, 0, 0, 0.3));\n",
              "      fill: #FFFFFF;\n",
              "    }\n",
              "  </style>\n",
              "\n",
              "    <script>\n",
              "      const buttonEl =\n",
              "        document.querySelector('#df-74c06bdc-cef3-46ef-8fbb-a4c465095a7e button.colab-df-convert');\n",
              "      buttonEl.style.display =\n",
              "        google.colab.kernel.accessAllowed ? 'block' : 'none';\n",
              "\n",
              "      async function convertToInteractive(key) {\n",
              "        const element = document.querySelector('#df-74c06bdc-cef3-46ef-8fbb-a4c465095a7e');\n",
              "        const dataTable =\n",
              "          await google.colab.kernel.invokeFunction('convertToInteractive',\n",
              "                                                    [key], {});\n",
              "        if (!dataTable) return;\n",
              "\n",
              "        const docLinkHtml = 'Like what you see? Visit the ' +\n",
              "          '<a target=\"_blank\" href=https://colab.research.google.com/notebooks/data_table.ipynb>data table notebook</a>'\n",
              "          + ' to learn more about interactive tables.';\n",
              "        element.innerHTML = '';\n",
              "        dataTable['output_type'] = 'display_data';\n",
              "        await google.colab.output.renderOutput(dataTable, element);\n",
              "        const docLink = document.createElement('div');\n",
              "        docLink.innerHTML = docLinkHtml;\n",
              "        element.appendChild(docLink);\n",
              "      }\n",
              "    </script>\n",
              "  </div>\n",
              "\n",
              "\n",
              "<div id=\"df-8ff12955-d811-44d1-baac-62b526c9962b\">\n",
              "  <button class=\"colab-df-quickchart\" onclick=\"quickchart('df-8ff12955-d811-44d1-baac-62b526c9962b')\"\n",
              "            title=\"Suggest charts\"\n",
              "            style=\"display:none;\">\n",
              "\n",
              "<svg xmlns=\"http://www.w3.org/2000/svg\" height=\"24px\"viewBox=\"0 0 24 24\"\n",
              "     width=\"24px\">\n",
              "    <g>\n",
              "        <path d=\"M19 3H5c-1.1 0-2 .9-2 2v14c0 1.1.9 2 2 2h14c1.1 0 2-.9 2-2V5c0-1.1-.9-2-2-2zM9 17H7v-7h2v7zm4 0h-2V7h2v10zm4 0h-2v-4h2v4z\"/>\n",
              "    </g>\n",
              "</svg>\n",
              "  </button>\n",
              "\n",
              "<style>\n",
              "  .colab-df-quickchart {\n",
              "      --bg-color: #E8F0FE;\n",
              "      --fill-color: #1967D2;\n",
              "      --hover-bg-color: #E2EBFA;\n",
              "      --hover-fill-color: #174EA6;\n",
              "      --disabled-fill-color: #AAA;\n",
              "      --disabled-bg-color: #DDD;\n",
              "  }\n",
              "\n",
              "  [theme=dark] .colab-df-quickchart {\n",
              "      --bg-color: #3B4455;\n",
              "      --fill-color: #D2E3FC;\n",
              "      --hover-bg-color: #434B5C;\n",
              "      --hover-fill-color: #FFFFFF;\n",
              "      --disabled-bg-color: #3B4455;\n",
              "      --disabled-fill-color: #666;\n",
              "  }\n",
              "\n",
              "  .colab-df-quickchart {\n",
              "    background-color: var(--bg-color);\n",
              "    border: none;\n",
              "    border-radius: 50%;\n",
              "    cursor: pointer;\n",
              "    display: none;\n",
              "    fill: var(--fill-color);\n",
              "    height: 32px;\n",
              "    padding: 0;\n",
              "    width: 32px;\n",
              "  }\n",
              "\n",
              "  .colab-df-quickchart:hover {\n",
              "    background-color: var(--hover-bg-color);\n",
              "    box-shadow: 0 1px 2px rgba(60, 64, 67, 0.3), 0 1px 3px 1px rgba(60, 64, 67, 0.15);\n",
              "    fill: var(--button-hover-fill-color);\n",
              "  }\n",
              "\n",
              "  .colab-df-quickchart-complete:disabled,\n",
              "  .colab-df-quickchart-complete:disabled:hover {\n",
              "    background-color: var(--disabled-bg-color);\n",
              "    fill: var(--disabled-fill-color);\n",
              "    box-shadow: none;\n",
              "  }\n",
              "\n",
              "  .colab-df-spinner {\n",
              "    border: 2px solid var(--fill-color);\n",
              "    border-color: transparent;\n",
              "    border-bottom-color: var(--fill-color);\n",
              "    animation:\n",
              "      spin 1s steps(1) infinite;\n",
              "  }\n",
              "\n",
              "  @keyframes spin {\n",
              "    0% {\n",
              "      border-color: transparent;\n",
              "      border-bottom-color: var(--fill-color);\n",
              "      border-left-color: var(--fill-color);\n",
              "    }\n",
              "    20% {\n",
              "      border-color: transparent;\n",
              "      border-left-color: var(--fill-color);\n",
              "      border-top-color: var(--fill-color);\n",
              "    }\n",
              "    30% {\n",
              "      border-color: transparent;\n",
              "      border-left-color: var(--fill-color);\n",
              "      border-top-color: var(--fill-color);\n",
              "      border-right-color: var(--fill-color);\n",
              "    }\n",
              "    40% {\n",
              "      border-color: transparent;\n",
              "      border-right-color: var(--fill-color);\n",
              "      border-top-color: var(--fill-color);\n",
              "    }\n",
              "    60% {\n",
              "      border-color: transparent;\n",
              "      border-right-color: var(--fill-color);\n",
              "    }\n",
              "    80% {\n",
              "      border-color: transparent;\n",
              "      border-right-color: var(--fill-color);\n",
              "      border-bottom-color: var(--fill-color);\n",
              "    }\n",
              "    90% {\n",
              "      border-color: transparent;\n",
              "      border-bottom-color: var(--fill-color);\n",
              "    }\n",
              "  }\n",
              "</style>\n",
              "\n",
              "  <script>\n",
              "    async function quickchart(key) {\n",
              "      const quickchartButtonEl =\n",
              "        document.querySelector('#' + key + ' button');\n",
              "      quickchartButtonEl.disabled = true;  // To prevent multiple clicks.\n",
              "      quickchartButtonEl.classList.add('colab-df-spinner');\n",
              "      try {\n",
              "        const charts = await google.colab.kernel.invokeFunction(\n",
              "            'suggestCharts', [key], {});\n",
              "      } catch (error) {\n",
              "        console.error('Error during call to suggestCharts:', error);\n",
              "      }\n",
              "      quickchartButtonEl.classList.remove('colab-df-spinner');\n",
              "      quickchartButtonEl.classList.add('colab-df-quickchart-complete');\n",
              "    }\n",
              "    (() => {\n",
              "      let quickchartButtonEl =\n",
              "        document.querySelector('#df-8ff12955-d811-44d1-baac-62b526c9962b button');\n",
              "      quickchartButtonEl.style.display =\n",
              "        google.colab.kernel.accessAllowed ? 'block' : 'none';\n",
              "    })();\n",
              "  </script>\n",
              "</div>\n",
              "\n",
              "    </div>\n",
              "  </div>\n"
            ],
            "application/vnd.google.colaboratory.intrinsic+json": {
              "type": "dataframe",
              "summary": "{\n  \"name\": \"df_retail\",\n  \"rows\": 4186,\n  \"fields\": [\n    {\n      \"column\": \"CustomerID\",\n      \"properties\": {\n        \"dtype\": \"number\",\n        \"std\": 1719.2708738399401,\n        \"min\": 12347.0,\n        \"max\": 18287.0,\n        \"num_unique_values\": 4186,\n        \"samples\": [\n          15135.0,\n          17534.0,\n          15163.0\n        ],\n        \"semantic_type\": \"\",\n        \"description\": \"\"\n      }\n    },\n    {\n      \"column\": \"Quantity\",\n      \"properties\": {\n        \"dtype\": \"number\",\n        \"std\": 1193,\n        \"min\": 1,\n        \"max\": 46783,\n        \"num_unique_values\": 1379,\n        \"samples\": [\n          1284,\n          273,\n          2265\n        ],\n        \"semantic_type\": \"\",\n        \"description\": \"\"\n      }\n    },\n    {\n      \"column\": \"TotalAmount\",\n      \"properties\": {\n        \"dtype\": \"number\",\n        \"std\": 2089.1322879893,\n        \"min\": 1.9,\n        \"max\": 80336.49,\n        \"num_unique_values\": 4077,\n        \"samples\": [\n          2061.64,\n          502.26,\n          235.79999999999998\n        ],\n        \"semantic_type\": \"\",\n        \"description\": \"\"\n      }\n    }\n  ]\n}"
            }
          },
          "metadata": {},
          "execution_count": 29
        }
      ]
    },
    {
      "cell_type": "markdown",
      "metadata": {
        "id": "respected-empire"
      },
      "source": [
        "### Scale the data\n",
        "\n",
        "Apply `StandardScaler` on the features."
      ]
    },
    {
      "cell_type": "code",
      "metadata": {
        "id": "jEsufbR_dZuv"
      },
      "source": [
        "# YOUR CODE HERE for scaling"
      ],
      "execution_count": 294,
      "outputs": []
    },
    {
      "cell_type": "markdown",
      "metadata": {
        "id": "smooth-florist"
      },
      "source": [
        "## Clustering ( 5 points)"
      ]
    },
    {
      "cell_type": "markdown",
      "metadata": {
        "id": "rn1qD44PI0H_"
      },
      "source": [
        "### Apply k-means algorithm to identify a specific number of clusters\n",
        "\n",
        "\n",
        "* Fit the k-means model\n",
        "\n",
        "* Extract and store the cluster centroids\n",
        "\n",
        "Below are the parameters for k-means, which are helpful\n",
        "\n",
        "**n_clusters** is no. of clusters specified\n",
        "\n",
        "**k-means++** is a random initialization method for centroids to avoid random initialisation trap\n",
        "\n",
        "**max_iter** is max no of iterations defined when k-means is running\n",
        "\n",
        "**n_init** is no. of times k-means will run with different initial centroids\n",
        "\n",
        "[why-is-k-means-slower-than-random-initialization-k-means](https://stats.stackexchange.com/questions/185396/why-is-k-means-slower-than-random-initialization-k-means/185422)"
      ]
    },
    {
      "cell_type": "code",
      "metadata": {
        "id": "GDjIF0_4HiIM"
      },
      "source": [
        "# YOUR CODE HERE to apply KMeans"
      ],
      "execution_count": null,
      "outputs": []
    },
    {
      "cell_type": "markdown",
      "metadata": {
        "id": "bpmFFF3VdZux"
      },
      "source": [
        "#### Find the optimal number of clusters (K) by using the [Elbow method](https://pythonprogramminglanguage.com/kmeans-elbow-method/).\n",
        "\n",
        "Use the optimal no. of clusters and store the cluster centroids"
      ]
    },
    {
      "cell_type": "code",
      "metadata": {
        "id": "c3Db3IVBdZuy"
      },
      "source": [
        "# YOUR CODE HERE"
      ],
      "execution_count": null,
      "outputs": []
    },
    {
      "cell_type": "markdown",
      "metadata": {
        "id": "0q7nKnfVK_Yj"
      },
      "source": [
        "### Apply DBSCAN algorithm for clustering\n",
        "\n",
        "- Compare the results of clusters from k-means and DBSCAN\n"
      ]
    },
    {
      "cell_type": "code",
      "metadata": {
        "id": "O8ahr6ctjp9o"
      },
      "source": [
        "# YOUR CODE HERE"
      ],
      "execution_count": null,
      "outputs": []
    },
    {
      "cell_type": "markdown",
      "metadata": {
        "id": "FarGC20zgjHj"
      },
      "source": [
        "### Analyze the clusters\n",
        "\n",
        "\n",
        "- consider two features and visualize the clusters with different colors using the predicted cluster centers.\n",
        "\n",
        "  **Hint:** 2D plot\n",
        "\n",
        "- consider three features and visualize the clusters with different colors using the predicted cluster centers.\n",
        "\n",
        "  **Hint:** [3D plot](https://matplotlib.org/stable/gallery/mplot3d/scatter3d.html\n",
        ")"
      ]
    },
    {
      "cell_type": "code",
      "metadata": {
        "id": "07MVOFIidZuz"
      },
      "source": [
        "# YOUR CODE HERE"
      ],
      "execution_count": null,
      "outputs": []
    },
    {
      "cell_type": "markdown",
      "metadata": {
        "id": "zef_pWaE20pP"
      },
      "source": [
        "### Train a supervised algorithm on clustered data\n",
        "\n",
        "This will allow us to predict cluster numbers (label) for each test data instance\n",
        "\n",
        "* Create labelled data with k-means cluster labels\n",
        "  \n",
        "  **Hint**: [`kmeans.labels_`](https://scikit-learn.org/stable/modules/generated/sklearn.cluster.KMeans.html\n",
        ")\n",
        "* Split the data into train and validation sets\n",
        "* Train a supervised algorithm on the train data\n",
        "* Find the accuracy of the model using validation data"
      ]
    },
    {
      "cell_type": "code",
      "metadata": {
        "id": "YLCHn9-j5ooT"
      },
      "source": [
        "# YOUR CODE HERE"
      ],
      "execution_count": null,
      "outputs": []
    },
    {
      "cell_type": "markdown",
      "metadata": {
        "id": "cUWhJeDpzh7Z"
      },
      "source": [
        "### Evaluation of Test Data\n",
        "* Use the model to predict the labels for the Test data below\n",
        "* Format the test data in the same format as the train data.\n",
        "* Predict it with trained supervised ML model"
      ]
    },
    {
      "cell_type": "code",
      "metadata": {
        "id": "fvfXQ8JNkBZ3"
      },
      "source": [
        "# Test set provided as below\n",
        "test = pd.read_csv(\"Online_Retail_Test.csv\")\n",
        "test.head(3)"
      ],
      "execution_count": null,
      "outputs": []
    },
    {
      "cell_type": "code",
      "metadata": {
        "id": "B4rEobc5FSS_"
      },
      "source": [
        "# YOUR CODE HERE"
      ],
      "execution_count": null,
      "outputs": []
    },
    {
      "cell_type": "markdown",
      "metadata": {
        "id": "ZAXIXD9S7Jxx"
      },
      "source": [
        "### Report Analysis\n",
        "\n",
        "- Discuss the pros and cons of removing the missing values vs replacing with the mean values\n",
        "- Based on the visualization of clusters, comment on the difference in buying patterns of each cluster\n",
        "- What other methods could be used to determine the optimal no. of clusters?"
      ]
    }
  ]
}