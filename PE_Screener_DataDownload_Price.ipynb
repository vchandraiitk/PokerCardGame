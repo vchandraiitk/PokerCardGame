{
  "nbformat": 4,
  "nbformat_minor": 0,
  "metadata": {
    "colab": {
      "provenance": [],
      "authorship_tag": "ABX9TyNVWwfDEugOrtY4W7nChc4a",
      "include_colab_link": true
    },
    "kernelspec": {
      "name": "python3",
      "display_name": "Python 3"
    },
    "language_info": {
      "name": "python"
    }
  },
  "cells": [
    {
      "cell_type": "markdown",
      "metadata": {
        "id": "view-in-github",
        "colab_type": "text"
      },
      "source": [
        "<a href=\"https://colab.research.google.com/github/vchandraiitk/PokerCardGame/blob/master/PE_Screener_DataDownload_Price.ipynb\" target=\"_parent\"><img src=\"https://colab.research.google.com/assets/colab-badge.svg\" alt=\"Open In Colab\"/></a>"
      ]
    },
    {
      "cell_type": "code",
      "source": [
        "from google.colab import drive\n",
        "drive.mount('/content/gdrive')"
      ],
      "metadata": {
        "colab": {
          "base_uri": "https://localhost:8080/"
        },
        "id": "v2v0VIe-NqVS",
        "outputId": "08e25063-6a78-408f-f06f-dd1cadafdee0"
      },
      "execution_count": 113,
      "outputs": [
        {
          "output_type": "stream",
          "name": "stdout",
          "text": [
            "Drive already mounted at /content/gdrive; to attempt to forcibly remount, call drive.mount(\"/content/gdrive\", force_remount=True).\n"
          ]
        }
      ]
    },
    {
      "cell_type": "code",
      "source": [
        "!ln -s \"/content/gdrive/MyDrive/CDS-Team15-Capstone-Projects/\" \"/content/project_data\""
      ],
      "metadata": {
        "colab": {
          "base_uri": "https://localhost:8080/"
        },
        "id": "7xpqkWDrNzuj",
        "outputId": "1a58d482-5a51-44fc-82d1-6a00f831964c"
      },
      "execution_count": 114,
      "outputs": [
        {
          "output_type": "stream",
          "name": "stdout",
          "text": [
            "ln: failed to create symbolic link '/content/project_data/CDS-Team15-Capstone-Projects': File exists\n"
          ]
        }
      ]
    },
    {
      "cell_type": "code",
      "source": [
        "import os\n",
        "os.chdir('/content/project_data/CDS-Team15-Capstone-Projects/test')"
      ],
      "metadata": {
        "id": "NICkPSsDOAc1"
      },
      "execution_count": 115,
      "outputs": []
    },
    {
      "cell_type": "code",
      "execution_count": 116,
      "metadata": {
        "id": "pwey0c3PEAEK"
      },
      "outputs": [],
      "source": [
        "stocks = {\"360ONE\":1274695,\"3MINDIA\":13,\"AADHARHFC\":1284772,\"AARTIIND\":21,\"AAVAS\":1274569,\"ABB\":27,\"ABBOTINDIA\":28,\"ABCAPITAL\":1274128,\"ABFRL\":486604,\"ABREL\":613,\"ABSLAMC\":1274975,\"ACC\":39,\"ACE\":53,\"ACI\":1275357,\"ADANIENSOL\":1272969,\"ADANIENT\":56,\"ADANIGREEN\":1274366,\"ADANIPORTS\":57,\"ADANIPOWER\":58,\"AEGISLOG\":84,\"AFFLE\":1274684,\"AIAENG\":101,\"AJANTPHARM\":104,\"AKUMS\":1284874,\"ALKEM\":1273171,\"ALKYLAMINE\":132,\"ALOKINDS\":142,\"AMBER\":1274257,\"AMBUJACEM\":163,\"ANANDRATHI\":1275117,\"ANANTRAJ\":183,\"ANGELONE\":1274790,\"APARINDS\":211,\"APLAPOLLO\":214,\"APLLTD\":121,\"APOLLOHOSP\":218,\"APOLLOTYRE\":219,\"APTUS\":1274911,\"ARE&M\":157,\"ASAHIINDIA\":264,\"ASHOKLEY\":281,\"ASIANPAINT\":295,\"ASTERDM\":1274286,\"ASTRAL\":309,\"ASTRAZEN\":310,\"ATGL\":1274591,\"ATUL\":319,\"AUBANK\":1274092,\"AUROPHARMA\":325,\"AVANTIFEED\":341,\"AWL\":1275165,\"AXISBANK\":348,\"BAJAJ-AUTO\":369,\"BAJAJFINSV\":373,\"BAJAJHLDNG\":375,\"BAJFINANCE\":372,\"BALAMINES\":380,\"BALKRISIND\":383,\"BALRAMCHIN\":387,\"BANDHANBNK\":1274308,\"BANKBARODA\":395,\"BANKINDIA\":396,\"BASF\":406,\"BATAINDIA\":408,\"BAYERCROP\":410,\"BBTC\":527,\"BDL\":1274300,\"BEL\":456,\"BEML\":423,\"BERGEPAINT\":429,\"BHARATFORG\":458,\"BHARTIARTL\":467,\"BHARTIHEXA\":1284744,\"BHEL\":460,\"BIKAJI\":1275353,\"BIOCON\":487,\"BIRLACORPN\":490,\"BLS\":1273377,\"BLUEDART\":517,\"BLUESTARCO\":519,\"BOSCHLTD\":537,\"BPCL\":462,\"BRIGADE\":549,\"BRITANNIA\":553,\"BSE\":1273635,\"BSOFT\":1826,\"CAMPUS\":1275219,\"CAMS\":1274786,\"CANBK\":579,\"CANFINHOME\":578,\"CAPLIPOINT\":582,\"CARBORUNIV\":586,\"CASTROLIND\":589,\"CCL\":593,\"CDSL\":1274088,\"CEATLTD\":596,\"CELLO\":1284546,\"CENTRALBK\":604,\"CENTURYPLY\":612,\"CERA\":614,\"CESC\":616,\"CGCL\":2116,\"CGPOWER\":739,\"CHALET\":1274626,\"CHAMBLFERT\":620,\"CHEMPLASTS\":634,\"CHENNPETRO\":636,\"CHOLAFIN\":648,\"CHOLAHLDNG\":3489,\"CIEINDIA\":1975,\"CIPLA\":661,\"CLEAN\":1274890,\"COALINDIA\":681,\"COCHINSHIP\":1274120,\"COFORGE\":2262,\"COLPAL\":685,\"CONCOR\":702,\"CONCORDBIO\":1284439,\"COROMANDEL\":715,\"CRAFTSMAN\":1274849,\"CREDITACC\":1274399,\"CRISIL\":737,\"CROMPTON\":1273354,\"CUB\":667,\"CUMMINSIND\":744,\"CYIENT\":1490,\"DABUR\":757,\"DALBHARAT\":1274605,\"DATAPATTNS\":1275127,\"DBREALTY\":755,\"DEEPAKFERT\":785,\"DEEPAKNTR\":786,\"DELHIVERY\":1275225,\"DEVYANI\":1274904,\"DIVISLAB\":837,\"DIXON\":1274137,\"DLF\":841,\"DMART\":1273670,\"DOMS\":1284580,\"DRREDDY\":852,\"EASEMYTRIP\":1274843,\"ECLERX\":880,\"EICHERMOT\":888,\"EIDPARRY\":889,\"EIHOTEL\":891,\"ELECON\":903,\"ELGIEQUIP\":910,\"EMAMILTD\":918,\"EMCURE\":1284839,\"ENDURANCE\":1273546,\"ENGINERSIN\":935,\"EQUITASBNK\":1274807,\"ERIS\":1274087,\"ESCORTS\":955,\"EXIDEIND\":982,\"FACT\":1006,\"FEDERALBNK\":1002,\"FINCABLES\":788,\"FINEORG\":1274375,\"FINPIPE\":1023,\"FIVESTAR\":1275356,\"FLUOROCHEM\":1274705,\"FORTIS\":1040,\"FSL\":1029,\"GAEL\":1225,\"GAIL\":1074,\"GESHIP\":1204,\"GICRE\":1274184,\"GILLETTE\":1132,\"GLAND\":1274812,\"GLAXO\":1143,\"GLENMARK\":1144,\"GMDCLTD\":1242,\"GMRAIRPORT\":1159,\"GNFC\":1244,\"GODFRYPHLP\":1163,\"GODIGIT\":1284784,\"GODREJAGRO\":1274176,\"GODREJCP\":1164,\"GODREJIND\":1165,\"GODREJPROP\":98066,\"GPIL\":1162,\"GPPL\":1248,\"GRANULES\":1196,\"GRAPHITE\":1197,\"GRASIM\":1198,\"GRINDWELL\":1211,\"GRINFRA\":1274889,\"GRSE\":1274573,\"GSFC\":1253,\"GSPL\":1255,\"GUJGASLTD\":1273048,\"GVT&D\":150,\"HAL\":1274307,\"HAPPSTMNDS\":1274783,\"HAVELLS\":1288,\"HBLENGINE\":1295,\"HCLTECH\":1297,\"HDFCAMC\":1274395,\"HDFCBANK\":1298,\"HDFCLIFE\":1274197,\"HEG\":1301,\"HEROMOTOCO\":1308,\"HFCL\":1319,\"HINDALCO\":1328,\"HINDCOPPER\":1338,\"HINDPETRO\":1348,\"HINDUNILVR\":1350,\"HINDZINC\":1351,\"HOMEFIRST\":1274827,\"HONASA\":1284547,\"HONAUT\":1366,\"HSCL\":1320,\"HUDCO\":1274074,\"ICICIBANK\":1384,\"ICICIGI\":1274145,\"ICICIPRULI\":1273517,\"IDBI\":1387,\"IDEA\":1388,\"IDFCFIRSTB\":1273113,\"IEX\":1274182,\"IFCI\":1394,\"IGL\":1471,\"IIFL\":1424,\"INDGN\":1284767,\"INDHOTEL\":1443,\"INDIACEM\":1420,\"INDIAMART\":1274674,\"INDIANB\":1439,\"INDIGO\":1273121,\"INDUSINDBK\":1480,\"INDUSTOWER\":244384,\"INFY\":1489,\"INOXINDIA\":1284600,\"INOXWIND\":1270795,\"INTELLECT\":1199533,\"IOB\":1449,\"IOC\":1448,\"IPCALAB\":1540,\"IRB\":1542,\"IRCON\":1272265,\"IRCTC\":1274700,\"IREDA\":1284567,\"IRFC\":1274825,\"ISEC\":1274317,\"ITC\":1552,\"ITI\":1554,\"J&KBANK\":1584,\"JBCHEPHARM\":1560,\"JBMA\":1604,\"JINDALSAW\":1624,\"JINDALSTEL\":1627,\"JIOFIN\":1284422,\"JKCEMENT\":1632,\"JKLAKSHMI\":1633,\"JKTYRE\":1636,\"JMFINANCIL\":1637,\"JPPOWER\":1582,\"JSL\":1626,\"JSWENERGY\":1655,\"JSWINFRA\":1284497,\"JSWSTEEL\":1657,\"JUBLFOOD\":1658,\"JUBLINGREA\":1274844,\"JUBLPHARMA\":1660,\"JUSTDIAL\":400458,\"JWL\":689,\"JYOTHYLAB\":1667,\"JYOTICNC\":1284626,\"KAJARIACER\":1685,\"KALYANKJIL\":1274850,\"KANSAINER\":1715,\"KARURVYSYA\":1724,\"KAYNES\":1275358,\"KEC\":1741,\"KEI\":1744,\"KFINTECH\":1275381,\"KIMS\":1274885,\"KIRLOSBROS\":1788,\"KIRLOSENG\":1792,\"KNRCON\":1806,\"KOTAKBANK\":1818,\"KPIL\":1692,\"KPITTECH\":1274654,\"KPRMILL\":1827,\"KSB\":1838,\"LALPATHLAB\":1273172,\"LATENTVIEW\":1275098,\"LAURUSLABS\":1273603,\"LEMONTREE\":1274323,\"LICHSGFIN\":1888,\"LICI\":1275221,\"LINDEINDIA\":523,\"LLOYDSME\":1902,\"LODHA\":1274865,\"LT\":1870,\"LTF\":1850,\"LTIM\":1273442,\"LTTS\":1273505,\"LUPIN\":1924,\"M&M\":1973,\"M&MFIN\":98567,\"MAHABANK\":397,\"MAHLIFE\":1977,\"MAHSEAMLES\":1968,\"MANAPPURAM\":1989,\"MANKIND\":1284353,\"MANYAVAR\":1275168,\"MAPMYINDIA\":1275122,\"MARICO\":2014,\"MARUTI\":2023,\"MASTEK\":2026,\"MAXHEALTH\":1274774,\"MAZDOCK\":1274794,\"MCX\":2156,\"MEDANTA\":1275351,\"METROBRAND\":1275121,\"METROPOLIS\":1274652,\"MFSL\":2035,\"MGL\":1273407,\"MINDACORP\":2089,\"MMTC\":2099,\"MOTHERSON\":2132,\"MOTILALOFS\":2133,\"MPHASIS\":2138,\"MRF\":2141,\"MRPL\":1996,\"MSUMI\":1275204,\"MUTHOOTFIN\":2168,\"NAM-INDIA\":1274188,\"NATCOPHARM\":2200,\"NATIONALUM\":2203,\"NAUKRI\":1485,\"NAVINFLUOR\":2217,\"NBCC\":2204,\"NCC\":2221,\"NESTLEIND\":2236,\"NETWEB\":1284419,\"NETWORK18\":2241,\"NEWGEN\":1274251,\"NH\":1273196,\"NHPC\":2254,\"NIACL\":1274192,\"NLCINDIA\":2251,\"NMDC\":2287,\"NSLNISP\":1284306,\"NTPC\":2303,\"NUVAMA\":1284522,\"NUVOCO\":1274910,\"NYKAA\":1274992,\"OBEROIRLTY\":2313,\"OFSS\":2344,\"OIL\":2322,\"OLECTRA\":1178,\"ONGC\":2320,\"PAGEIND\":2389,\"PATANJALI\":2803,\"PAYTM\":1275094,\"PCBL\":2468,\"PEL\":2486,\"PERSISTENT\":2458,\"PETRONET\":2461,\"PFC\":2522,\"PFIZER\":2462,\"PGHH\":2579,\"PHOENIXLTD\":2470,\"PIDILITIND\":2478,\"PIIND\":2474,\"PNB\":2600,\"PNBHOUSING\":1273561,\"PNCINFRA\":1270850,\"POLICYBZR\":1275091,\"POLYCAB\":1274653,\"POLYMED\":2507,\"POONAWALLA\":1951,\"POWERGRID\":2523,\"POWERINDIA\":1274744,\"PPLPHARMA\":1275345,\"PRAJIND\":2529,\"PRESTIGE\":2558,\"PTCIL\":1270757,\"PVRINOX\":2604,\"QUESS\":1273420,\"RADICO\":2620,\"RAILTEL\":1274834,\"RAINBOW\":1275218,\"RAJESHEXPO\":2640,\"RAMCOCEM\":1947,\"RATNAMANI\":2693,\"RAYMOND\":2701,\"RBLBANK\":1273471,\"RCF\":2684,\"RECLTD\":2809,\"REDINGTON\":2708,\"RELIANCE\":2726,\"RENUKA\":3018,\"RHIM\":2357,\"RITES\":1274374,\"RKFORGE\":2662,\"ROUTE\":1274784,\"RRKABEL\":1284488,\"RTNINDIA\":55705,\"RVNL\":1274649,\"SAIL\":3192,\"SAMMAANCAP\":496506,\"SANOFI\":342,\"SAPPHIRE\":1275097,\"SAREGAMA\":2899,\"SBFC\":1284438,\"SBICARD\":1274738,\"SBILIFE\":1274150,\"SBIN\":3188,\"SCHAEFFLER\":990,\"SCHNEIDER\":2923,\"SCI\":2984,\"SHREECEM\":2998,\"SHRIRAMFIN\":3046,\"SHYAMMETL\":1274880,\"SIEMENS\":3061,\"SIGNATURE\":1275340,\"SJVN\":3095,\"SKFINDIA\":3096,\"SOBHA\":3110,\"SOLARINDS\":3115,\"SONACOMS\":1274879,\"SONATSOFTW\":3127,\"SPARC\":3244,\"SRF\":3108,\"STARHEALTH\":1275115,\"SUMICHEM\":1274728,\"SUNDARMFIN\":3253,\"SUNDRMFAST\":3256,\"SUNPHARMA\":3245,\"SUNTV\":3248,\"SUPREMEIND\":3279,\"SUVENPHAR\":1274739,\"SUZLON\":3305,\"SWANENERGY\":3315,\"SWSOLAR\":1274686,\"SYNGENE\":1272977,\"SYRMA\":1275268,\"TANLA\":3355,\"TATACHEM\":3362,\"TATACOMM\":3364,\"TATACONSUM\":3367,\"TATAELXSI\":3366,\"TATAINVEST\":3368,\"TATAMOTORS\":3370,\"TATAPOWER\":3371,\"TATASTEEL\":3373,\"TATATECH\":1284568,\"TBOTEK\":1284773,\"TCS\":3365,\"TECHM\":100068,\"TECHNOE\":1274597,\"TEJASNET\":1274086,\"THERMAX\":3412,\"TIINDIA\":1274187,\"TIMKEN\":3426,\"TITAGARH\":3435,\"TITAN\":3437,\"TORNTPHARM\":3445,\"TORNTPOWER\":3446,\"TRENT\":3467,\"TRIDENT\":3473,\"TRITURBINE\":3486,\"TRIVENI\":1272591,\"TTML\":3374,\"TVSMOTOR\":3502,\"TVSSCS\":1284449,\"UBL\":3548,\"UCOBANK\":3521,\"UJJIVANSFB\":1274716,\"ULTRACEMCO\":3525,\"UNIONBANK\":3536,\"UNITDSPR\":3555,\"UNOMINDA\":2090,\"UPL\":3554,\"USHAMART\":3574,\"UTIAMC\":1274795,\"VARROC\":1274377,\"VBL\":1273562,\"VEDL\":2943,\"VGUARD\":3583,\"VIJAYA\":1274919,\"VINATIORGA\":3663,\"VIPIND\":3670,\"VOLTAS\":3708,\"VTL\":3612,\"WELCORP\":3738,\"WELSPUNLIV\":3740,\"WESTLIFE\":3749,\"WHIRLPOOL\":3752,\"WIPRO\":3763,\"YESBANK\":3783,\"ZEEL\":3788,\"ZENSARTECH\":3800,\"ZFCVINDIA\":3720,\"ZOMATO\":1274894,\"ZYDUSLIFE\":567}"
      ]
    },
    {
      "cell_type": "code",
      "source": [
        "#stocks = {\"360ONE\":1274695}"
      ],
      "metadata": {
        "id": "5jIcFhqlEqyn"
      },
      "execution_count": 117,
      "outputs": []
    },
    {
      "cell_type": "code",
      "source": [
        "import pandas as pd\n",
        "\n",
        "def extract_data(json_data, label):\n",
        "    \"\"\"\n",
        "    Extracts data for the specified label from the JSON response and returns a Pandas DataFrame.\n",
        "    \"\"\"\n",
        "    # Check if json_data is valid before proceeding\n",
        "    if json_data is None or 'datasets' not in json_data:\n",
        "        print(\"Invalid or empty JSON data.\")  # Or log the error for debugging\n",
        "        return None\n",
        "\n",
        "    for dataset in json_data['datasets']:\n",
        "        if dataset['label'] == label or dataset['label'].startswith(label + ' '):\n",
        "            values = dataset['values']\n",
        "            values = [row[:2] for row in values]\n",
        "            # Replace null values with NaN (Not a Number) before creating the DataFrame\n",
        "            values = [[row[0], pd.NA if row[1] is None else row[1]] for row in values]\n",
        "\n",
        "            df = pd.DataFrame(values, columns=['Date', 'Value'])  # 'Value' column for the label's data\n",
        "            df['Date'] = pd.to_datetime(df['Date'])\n",
        "            return df\n",
        "    return None  # Return None if data for the label is not found"
      ],
      "metadata": {
        "id": "Sz0_mz_PHMEq"
      },
      "execution_count": 124,
      "outputs": []
    },
    {
      "cell_type": "code",
      "source": [
        "\n",
        "import requests\n",
        "import json\n",
        "\n",
        "def get_stock_chart_data(stock_code):\n",
        "    \"\"\"\n",
        "    Fetches stock chart data from the given API endpoint.\n",
        "\n",
        "    Args:\n",
        "        stock_code: The stock code.\n",
        "        api_url_base: The base URL for the API endpoint.\n",
        "\n",
        "    Returns:\n",
        "        A JSON object containing the stock chart data, or None if an error occurs.\n",
        "    \"\"\"\n",
        "    try:\n",
        "        api_url = f\"https://www.screener.in/api/company/{stock_code}/chart/?q=Price+to+Earning-Median+PE-EPS&days=10000&consolidated=true\"\n",
        "        response = requests.get(api_url)\n",
        "        response.raise_for_status()  # Raise an exception for bad status codes (4xx or 5xx)\n",
        "\n",
        "        data = response.json()\n",
        "        #print(data)\n",
        "        return data\n",
        "\n",
        "    except requests.exceptions.RequestException as e:\n",
        "        print(f\"Error fetching data for stock code {stock_code}: {e}\")\n",
        "        return None\n",
        "\n",
        "    except json.JSONDecodeError as e:\n",
        "        print(f\"Error decoding JSON response for stock code {stock_code}: {e}\")\n",
        "        return None\n",
        "    except Exception as e:\n",
        "        print(f\"An unexpected error occurred for stock code {stock_code}: {e}\")\n",
        "        return None"
      ],
      "metadata": {
        "id": "LomTDCvkFZ5Y"
      },
      "execution_count": 125,
      "outputs": []
    },
    {
      "cell_type": "code",
      "source": [
        "# prompt: iterate dictory stocks and take value. and pass value to get_stock_chart_data\n",
        "\n",
        "import requests\n",
        "import json\n",
        "import pandas as pd\n",
        "\n",
        "df_price_final = []\n",
        "df_50DMA_final = []\n",
        "df_200DMA_final = []\n",
        "df_volume_final = []\n",
        "for stock_code, stock_value in stocks.items():\n",
        "  #print(stock_code)\n",
        "  data = get_stock_chart_data(stock_value)\n",
        "  #data = get_stock_chart_data(21)\n",
        "  df_price = extract_data(data,'TTM EPS')\n",
        "  df_50DMA = extract_data(data,'PE')\n",
        "\n",
        "  if df_price is not None: # Check if df is not None before proceeding\n",
        "    df_price['Ticker'] = stock_code\n",
        "    df_price_final.append(df_price)\n",
        "\n",
        "  #df_50DMA = extract_data(data, '50 DMA')\n",
        "  if df_50DMA is not None: # Check if df is not None before proceeding\n",
        "    df_50DMA['Ticker'] = stock_code\n",
        "    df_50DMA_final.append(df_50DMA)\n",
        "\n",
        "\n",
        "# Removed the break statements to allow processing of all stocks.\n",
        "\n",
        "\n",
        "# Concatenate all DataFrames in the list into a single DataFrame\n",
        "final_price_df = pd.concat(df_price_final, ignore_index=True)\n",
        "final_50DMA_df = pd.concat(df_50DMA_final, ignore_index=True)"
      ],
      "metadata": {
        "colab": {
          "base_uri": "https://localhost:8080/",
          "height": 584
        },
        "id": "LAyw1R1HGRXJ",
        "outputId": "d6a4734f-1d1e-405a-ec2d-d07c5b518451"
      },
      "execution_count": 126,
      "outputs": [
        {
          "output_type": "stream",
          "name": "stdout",
          "text": [
            "Error fetching data for stock code 889: 429 Client Error: Too Many Requests for url: https://www.screener.in/api/company/889/chart/?q=Price+to+Earning-Median+PE-EPS&consolidated=true\n",
            "Invalid or empty JSON data.\n",
            "Invalid or empty JSON data.\n",
            "Error fetching data for stock code 935: 429 Client Error: Too Many Requests for url: https://www.screener.in/api/company/935/chart/?q=Price+to+Earning-Median+PE-EPS&consolidated=true\n",
            "Invalid or empty JSON data.\n",
            "Invalid or empty JSON data.\n",
            "Error fetching data for stock code 788: 429 Client Error: Too Many Requests for url: https://www.screener.in/api/company/788/chart/?q=Price+to+Earning-Median+PE-EPS&consolidated=true\n",
            "Invalid or empty JSON data.\n",
            "Invalid or empty JSON data.\n",
            "Error fetching data for stock code 1225: 429 Client Error: Too Many Requests for url: https://www.screener.in/api/company/1225/chart/?q=Price+to+Earning-Median+PE-EPS&consolidated=true\n",
            "Invalid or empty JSON data.\n",
            "Invalid or empty JSON data.\n"
          ]
        },
        {
          "output_type": "error",
          "ename": "KeyboardInterrupt",
          "evalue": "",
          "traceback": [
            "\u001b[0;31m---------------------------------------------------------------------------\u001b[0m",
            "\u001b[0;31mKeyboardInterrupt\u001b[0m                         Traceback (most recent call last)",
            "\u001b[0;32m<ipython-input-126-ce4c26a10490>\u001b[0m in \u001b[0;36m<cell line: 0>\u001b[0;34m()\u001b[0m\n\u001b[1;32m     11\u001b[0m \u001b[0;32mfor\u001b[0m \u001b[0mstock_code\u001b[0m\u001b[0;34m,\u001b[0m \u001b[0mstock_value\u001b[0m \u001b[0;32min\u001b[0m \u001b[0mstocks\u001b[0m\u001b[0;34m.\u001b[0m\u001b[0mitems\u001b[0m\u001b[0;34m(\u001b[0m\u001b[0;34m)\u001b[0m\u001b[0;34m:\u001b[0m\u001b[0;34m\u001b[0m\u001b[0;34m\u001b[0m\u001b[0m\n\u001b[1;32m     12\u001b[0m   \u001b[0;31m#print(stock_code)\u001b[0m\u001b[0;34m\u001b[0m\u001b[0;34m\u001b[0m\u001b[0m\n\u001b[0;32m---> 13\u001b[0;31m   \u001b[0mdata\u001b[0m \u001b[0;34m=\u001b[0m \u001b[0mget_stock_chart_data\u001b[0m\u001b[0;34m(\u001b[0m\u001b[0mstock_value\u001b[0m\u001b[0;34m)\u001b[0m\u001b[0;34m\u001b[0m\u001b[0;34m\u001b[0m\u001b[0m\n\u001b[0m\u001b[1;32m     14\u001b[0m   \u001b[0;31m#data = get_stock_chart_data(21)\u001b[0m\u001b[0;34m\u001b[0m\u001b[0;34m\u001b[0m\u001b[0m\n\u001b[1;32m     15\u001b[0m   \u001b[0mdf_price\u001b[0m \u001b[0;34m=\u001b[0m \u001b[0mextract_data\u001b[0m\u001b[0;34m(\u001b[0m\u001b[0mdata\u001b[0m\u001b[0;34m,\u001b[0m\u001b[0;34m'TTM EPS'\u001b[0m\u001b[0;34m)\u001b[0m\u001b[0;34m\u001b[0m\u001b[0;34m\u001b[0m\u001b[0m\n",
            "\u001b[0;32m<ipython-input-125-3ab545619e51>\u001b[0m in \u001b[0;36mget_stock_chart_data\u001b[0;34m(stock_code)\u001b[0m\n\u001b[1;32m     15\u001b[0m     \u001b[0;32mtry\u001b[0m\u001b[0;34m:\u001b[0m\u001b[0;34m\u001b[0m\u001b[0;34m\u001b[0m\u001b[0m\n\u001b[1;32m     16\u001b[0m         \u001b[0mapi_url\u001b[0m \u001b[0;34m=\u001b[0m \u001b[0;34mf\"https://www.screener.in/api/company/{stock_code}/chart/?q=Price+to+Earning-Median+PE-EPS&consolidated=true\"\u001b[0m\u001b[0;34m\u001b[0m\u001b[0;34m\u001b[0m\u001b[0m\n\u001b[0;32m---> 17\u001b[0;31m         \u001b[0mresponse\u001b[0m \u001b[0;34m=\u001b[0m \u001b[0mrequests\u001b[0m\u001b[0;34m.\u001b[0m\u001b[0mget\u001b[0m\u001b[0;34m(\u001b[0m\u001b[0mapi_url\u001b[0m\u001b[0;34m)\u001b[0m\u001b[0;34m\u001b[0m\u001b[0;34m\u001b[0m\u001b[0m\n\u001b[0m\u001b[1;32m     18\u001b[0m         \u001b[0mresponse\u001b[0m\u001b[0;34m.\u001b[0m\u001b[0mraise_for_status\u001b[0m\u001b[0;34m(\u001b[0m\u001b[0;34m)\u001b[0m  \u001b[0;31m# Raise an exception for bad status codes (4xx or 5xx)\u001b[0m\u001b[0;34m\u001b[0m\u001b[0;34m\u001b[0m\u001b[0m\n\u001b[1;32m     19\u001b[0m \u001b[0;34m\u001b[0m\u001b[0m\n",
            "\u001b[0;32m/usr/local/lib/python3.11/dist-packages/requests/api.py\u001b[0m in \u001b[0;36mget\u001b[0;34m(url, params, **kwargs)\u001b[0m\n\u001b[1;32m     71\u001b[0m     \"\"\"\n\u001b[1;32m     72\u001b[0m \u001b[0;34m\u001b[0m\u001b[0m\n\u001b[0;32m---> 73\u001b[0;31m     \u001b[0;32mreturn\u001b[0m \u001b[0mrequest\u001b[0m\u001b[0;34m(\u001b[0m\u001b[0;34m\"get\"\u001b[0m\u001b[0;34m,\u001b[0m \u001b[0murl\u001b[0m\u001b[0;34m,\u001b[0m \u001b[0mparams\u001b[0m\u001b[0;34m=\u001b[0m\u001b[0mparams\u001b[0m\u001b[0;34m,\u001b[0m \u001b[0;34m**\u001b[0m\u001b[0mkwargs\u001b[0m\u001b[0;34m)\u001b[0m\u001b[0;34m\u001b[0m\u001b[0;34m\u001b[0m\u001b[0m\n\u001b[0m\u001b[1;32m     74\u001b[0m \u001b[0;34m\u001b[0m\u001b[0m\n\u001b[1;32m     75\u001b[0m \u001b[0;34m\u001b[0m\u001b[0m\n",
            "\u001b[0;32m/usr/local/lib/python3.11/dist-packages/requests/api.py\u001b[0m in \u001b[0;36mrequest\u001b[0;34m(method, url, **kwargs)\u001b[0m\n\u001b[1;32m     57\u001b[0m     \u001b[0;31m# cases, and look like a memory leak in others.\u001b[0m\u001b[0;34m\u001b[0m\u001b[0;34m\u001b[0m\u001b[0m\n\u001b[1;32m     58\u001b[0m     \u001b[0;32mwith\u001b[0m \u001b[0msessions\u001b[0m\u001b[0;34m.\u001b[0m\u001b[0mSession\u001b[0m\u001b[0;34m(\u001b[0m\u001b[0;34m)\u001b[0m \u001b[0;32mas\u001b[0m \u001b[0msession\u001b[0m\u001b[0;34m:\u001b[0m\u001b[0;34m\u001b[0m\u001b[0;34m\u001b[0m\u001b[0m\n\u001b[0;32m---> 59\u001b[0;31m         \u001b[0;32mreturn\u001b[0m \u001b[0msession\u001b[0m\u001b[0;34m.\u001b[0m\u001b[0mrequest\u001b[0m\u001b[0;34m(\u001b[0m\u001b[0mmethod\u001b[0m\u001b[0;34m=\u001b[0m\u001b[0mmethod\u001b[0m\u001b[0;34m,\u001b[0m \u001b[0murl\u001b[0m\u001b[0;34m=\u001b[0m\u001b[0murl\u001b[0m\u001b[0;34m,\u001b[0m \u001b[0;34m**\u001b[0m\u001b[0mkwargs\u001b[0m\u001b[0;34m)\u001b[0m\u001b[0;34m\u001b[0m\u001b[0;34m\u001b[0m\u001b[0m\n\u001b[0m\u001b[1;32m     60\u001b[0m \u001b[0;34m\u001b[0m\u001b[0m\n\u001b[1;32m     61\u001b[0m \u001b[0;34m\u001b[0m\u001b[0m\n",
            "\u001b[0;32m/usr/local/lib/python3.11/dist-packages/requests/sessions.py\u001b[0m in \u001b[0;36mrequest\u001b[0;34m(self, method, url, params, data, headers, cookies, files, auth, timeout, allow_redirects, proxies, hooks, stream, verify, cert, json)\u001b[0m\n\u001b[1;32m    587\u001b[0m         }\n\u001b[1;32m    588\u001b[0m         \u001b[0msend_kwargs\u001b[0m\u001b[0;34m.\u001b[0m\u001b[0mupdate\u001b[0m\u001b[0;34m(\u001b[0m\u001b[0msettings\u001b[0m\u001b[0;34m)\u001b[0m\u001b[0;34m\u001b[0m\u001b[0;34m\u001b[0m\u001b[0m\n\u001b[0;32m--> 589\u001b[0;31m         \u001b[0mresp\u001b[0m \u001b[0;34m=\u001b[0m \u001b[0mself\u001b[0m\u001b[0;34m.\u001b[0m\u001b[0msend\u001b[0m\u001b[0;34m(\u001b[0m\u001b[0mprep\u001b[0m\u001b[0;34m,\u001b[0m \u001b[0;34m**\u001b[0m\u001b[0msend_kwargs\u001b[0m\u001b[0;34m)\u001b[0m\u001b[0;34m\u001b[0m\u001b[0;34m\u001b[0m\u001b[0m\n\u001b[0m\u001b[1;32m    590\u001b[0m \u001b[0;34m\u001b[0m\u001b[0m\n\u001b[1;32m    591\u001b[0m         \u001b[0;32mreturn\u001b[0m \u001b[0mresp\u001b[0m\u001b[0;34m\u001b[0m\u001b[0;34m\u001b[0m\u001b[0m\n",
            "\u001b[0;32m/usr/local/lib/python3.11/dist-packages/requests/sessions.py\u001b[0m in \u001b[0;36msend\u001b[0;34m(self, request, **kwargs)\u001b[0m\n\u001b[1;32m    701\u001b[0m \u001b[0;34m\u001b[0m\u001b[0m\n\u001b[1;32m    702\u001b[0m         \u001b[0;31m# Send the request\u001b[0m\u001b[0;34m\u001b[0m\u001b[0;34m\u001b[0m\u001b[0m\n\u001b[0;32m--> 703\u001b[0;31m         \u001b[0mr\u001b[0m \u001b[0;34m=\u001b[0m \u001b[0madapter\u001b[0m\u001b[0;34m.\u001b[0m\u001b[0msend\u001b[0m\u001b[0;34m(\u001b[0m\u001b[0mrequest\u001b[0m\u001b[0;34m,\u001b[0m \u001b[0;34m**\u001b[0m\u001b[0mkwargs\u001b[0m\u001b[0;34m)\u001b[0m\u001b[0;34m\u001b[0m\u001b[0;34m\u001b[0m\u001b[0m\n\u001b[0m\u001b[1;32m    704\u001b[0m \u001b[0;34m\u001b[0m\u001b[0m\n\u001b[1;32m    705\u001b[0m         \u001b[0;31m# Total elapsed time of the request (approximately)\u001b[0m\u001b[0;34m\u001b[0m\u001b[0;34m\u001b[0m\u001b[0m\n",
            "\u001b[0;32m/usr/local/lib/python3.11/dist-packages/requests/adapters.py\u001b[0m in \u001b[0;36msend\u001b[0;34m(self, request, stream, timeout, verify, cert, proxies)\u001b[0m\n\u001b[1;32m    665\u001b[0m \u001b[0;34m\u001b[0m\u001b[0m\n\u001b[1;32m    666\u001b[0m         \u001b[0;32mtry\u001b[0m\u001b[0;34m:\u001b[0m\u001b[0;34m\u001b[0m\u001b[0;34m\u001b[0m\u001b[0m\n\u001b[0;32m--> 667\u001b[0;31m             resp = conn.urlopen(\n\u001b[0m\u001b[1;32m    668\u001b[0m                 \u001b[0mmethod\u001b[0m\u001b[0;34m=\u001b[0m\u001b[0mrequest\u001b[0m\u001b[0;34m.\u001b[0m\u001b[0mmethod\u001b[0m\u001b[0;34m,\u001b[0m\u001b[0;34m\u001b[0m\u001b[0;34m\u001b[0m\u001b[0m\n\u001b[1;32m    669\u001b[0m                 \u001b[0murl\u001b[0m\u001b[0;34m=\u001b[0m\u001b[0murl\u001b[0m\u001b[0;34m,\u001b[0m\u001b[0;34m\u001b[0m\u001b[0;34m\u001b[0m\u001b[0m\n",
            "\u001b[0;32m/usr/local/lib/python3.11/dist-packages/urllib3/connectionpool.py\u001b[0m in \u001b[0;36murlopen\u001b[0;34m(self, method, url, body, headers, retries, redirect, assert_same_host, timeout, pool_timeout, release_conn, chunked, body_pos, preload_content, decode_content, **response_kw)\u001b[0m\n\u001b[1;32m    785\u001b[0m \u001b[0;34m\u001b[0m\u001b[0m\n\u001b[1;32m    786\u001b[0m             \u001b[0;31m# Make the request on the HTTPConnection object\u001b[0m\u001b[0;34m\u001b[0m\u001b[0;34m\u001b[0m\u001b[0m\n\u001b[0;32m--> 787\u001b[0;31m             response = self._make_request(\n\u001b[0m\u001b[1;32m    788\u001b[0m                 \u001b[0mconn\u001b[0m\u001b[0;34m,\u001b[0m\u001b[0;34m\u001b[0m\u001b[0;34m\u001b[0m\u001b[0m\n\u001b[1;32m    789\u001b[0m                 \u001b[0mmethod\u001b[0m\u001b[0;34m,\u001b[0m\u001b[0;34m\u001b[0m\u001b[0;34m\u001b[0m\u001b[0m\n",
            "\u001b[0;32m/usr/local/lib/python3.11/dist-packages/urllib3/connectionpool.py\u001b[0m in \u001b[0;36m_make_request\u001b[0;34m(self, conn, method, url, body, headers, retries, timeout, chunked, response_conn, preload_content, decode_content, enforce_content_length)\u001b[0m\n\u001b[1;32m    532\u001b[0m         \u001b[0;31m# Receive the response from the server\u001b[0m\u001b[0;34m\u001b[0m\u001b[0;34m\u001b[0m\u001b[0m\n\u001b[1;32m    533\u001b[0m         \u001b[0;32mtry\u001b[0m\u001b[0;34m:\u001b[0m\u001b[0;34m\u001b[0m\u001b[0;34m\u001b[0m\u001b[0m\n\u001b[0;32m--> 534\u001b[0;31m             \u001b[0mresponse\u001b[0m \u001b[0;34m=\u001b[0m \u001b[0mconn\u001b[0m\u001b[0;34m.\u001b[0m\u001b[0mgetresponse\u001b[0m\u001b[0;34m(\u001b[0m\u001b[0;34m)\u001b[0m\u001b[0;34m\u001b[0m\u001b[0;34m\u001b[0m\u001b[0m\n\u001b[0m\u001b[1;32m    535\u001b[0m         \u001b[0;32mexcept\u001b[0m \u001b[0;34m(\u001b[0m\u001b[0mBaseSSLError\u001b[0m\u001b[0;34m,\u001b[0m \u001b[0mOSError\u001b[0m\u001b[0;34m)\u001b[0m \u001b[0;32mas\u001b[0m \u001b[0me\u001b[0m\u001b[0;34m:\u001b[0m\u001b[0;34m\u001b[0m\u001b[0;34m\u001b[0m\u001b[0m\n\u001b[1;32m    536\u001b[0m             \u001b[0mself\u001b[0m\u001b[0;34m.\u001b[0m\u001b[0m_raise_timeout\u001b[0m\u001b[0;34m(\u001b[0m\u001b[0merr\u001b[0m\u001b[0;34m=\u001b[0m\u001b[0me\u001b[0m\u001b[0;34m,\u001b[0m \u001b[0murl\u001b[0m\u001b[0;34m=\u001b[0m\u001b[0murl\u001b[0m\u001b[0;34m,\u001b[0m \u001b[0mtimeout_value\u001b[0m\u001b[0;34m=\u001b[0m\u001b[0mread_timeout\u001b[0m\u001b[0;34m)\u001b[0m\u001b[0;34m\u001b[0m\u001b[0;34m\u001b[0m\u001b[0m\n",
            "\u001b[0;32m/usr/local/lib/python3.11/dist-packages/urllib3/connection.py\u001b[0m in \u001b[0;36mgetresponse\u001b[0;34m(self)\u001b[0m\n\u001b[1;32m    514\u001b[0m \u001b[0;34m\u001b[0m\u001b[0m\n\u001b[1;32m    515\u001b[0m         \u001b[0;31m# Get the response from http.client.HTTPConnection\u001b[0m\u001b[0;34m\u001b[0m\u001b[0;34m\u001b[0m\u001b[0m\n\u001b[0;32m--> 516\u001b[0;31m         \u001b[0mhttplib_response\u001b[0m \u001b[0;34m=\u001b[0m \u001b[0msuper\u001b[0m\u001b[0;34m(\u001b[0m\u001b[0;34m)\u001b[0m\u001b[0;34m.\u001b[0m\u001b[0mgetresponse\u001b[0m\u001b[0;34m(\u001b[0m\u001b[0;34m)\u001b[0m\u001b[0;34m\u001b[0m\u001b[0;34m\u001b[0m\u001b[0m\n\u001b[0m\u001b[1;32m    517\u001b[0m \u001b[0;34m\u001b[0m\u001b[0m\n\u001b[1;32m    518\u001b[0m         \u001b[0;32mtry\u001b[0m\u001b[0;34m:\u001b[0m\u001b[0;34m\u001b[0m\u001b[0;34m\u001b[0m\u001b[0m\n",
            "\u001b[0;32m/usr/lib/python3.11/http/client.py\u001b[0m in \u001b[0;36mgetresponse\u001b[0;34m(self)\u001b[0m\n\u001b[1;32m   1393\u001b[0m         \u001b[0;32mtry\u001b[0m\u001b[0;34m:\u001b[0m\u001b[0;34m\u001b[0m\u001b[0;34m\u001b[0m\u001b[0m\n\u001b[1;32m   1394\u001b[0m             \u001b[0;32mtry\u001b[0m\u001b[0;34m:\u001b[0m\u001b[0;34m\u001b[0m\u001b[0;34m\u001b[0m\u001b[0m\n\u001b[0;32m-> 1395\u001b[0;31m                 \u001b[0mresponse\u001b[0m\u001b[0;34m.\u001b[0m\u001b[0mbegin\u001b[0m\u001b[0;34m(\u001b[0m\u001b[0;34m)\u001b[0m\u001b[0;34m\u001b[0m\u001b[0;34m\u001b[0m\u001b[0m\n\u001b[0m\u001b[1;32m   1396\u001b[0m             \u001b[0;32mexcept\u001b[0m \u001b[0mConnectionError\u001b[0m\u001b[0;34m:\u001b[0m\u001b[0;34m\u001b[0m\u001b[0;34m\u001b[0m\u001b[0m\n\u001b[1;32m   1397\u001b[0m                 \u001b[0mself\u001b[0m\u001b[0;34m.\u001b[0m\u001b[0mclose\u001b[0m\u001b[0;34m(\u001b[0m\u001b[0;34m)\u001b[0m\u001b[0;34m\u001b[0m\u001b[0;34m\u001b[0m\u001b[0m\n",
            "\u001b[0;32m/usr/lib/python3.11/http/client.py\u001b[0m in \u001b[0;36mbegin\u001b[0;34m(self)\u001b[0m\n\u001b[1;32m    323\u001b[0m         \u001b[0;31m# read until we get a non-100 response\u001b[0m\u001b[0;34m\u001b[0m\u001b[0;34m\u001b[0m\u001b[0m\n\u001b[1;32m    324\u001b[0m         \u001b[0;32mwhile\u001b[0m \u001b[0;32mTrue\u001b[0m\u001b[0;34m:\u001b[0m\u001b[0;34m\u001b[0m\u001b[0;34m\u001b[0m\u001b[0m\n\u001b[0;32m--> 325\u001b[0;31m             \u001b[0mversion\u001b[0m\u001b[0;34m,\u001b[0m \u001b[0mstatus\u001b[0m\u001b[0;34m,\u001b[0m \u001b[0mreason\u001b[0m \u001b[0;34m=\u001b[0m \u001b[0mself\u001b[0m\u001b[0;34m.\u001b[0m\u001b[0m_read_status\u001b[0m\u001b[0;34m(\u001b[0m\u001b[0;34m)\u001b[0m\u001b[0;34m\u001b[0m\u001b[0;34m\u001b[0m\u001b[0m\n\u001b[0m\u001b[1;32m    326\u001b[0m             \u001b[0;32mif\u001b[0m \u001b[0mstatus\u001b[0m \u001b[0;34m!=\u001b[0m \u001b[0mCONTINUE\u001b[0m\u001b[0;34m:\u001b[0m\u001b[0;34m\u001b[0m\u001b[0;34m\u001b[0m\u001b[0m\n\u001b[1;32m    327\u001b[0m                 \u001b[0;32mbreak\u001b[0m\u001b[0;34m\u001b[0m\u001b[0;34m\u001b[0m\u001b[0m\n",
            "\u001b[0;32m/usr/lib/python3.11/http/client.py\u001b[0m in \u001b[0;36m_read_status\u001b[0;34m(self)\u001b[0m\n\u001b[1;32m    284\u001b[0m \u001b[0;34m\u001b[0m\u001b[0m\n\u001b[1;32m    285\u001b[0m     \u001b[0;32mdef\u001b[0m \u001b[0m_read_status\u001b[0m\u001b[0;34m(\u001b[0m\u001b[0mself\u001b[0m\u001b[0;34m)\u001b[0m\u001b[0;34m:\u001b[0m\u001b[0;34m\u001b[0m\u001b[0;34m\u001b[0m\u001b[0m\n\u001b[0;32m--> 286\u001b[0;31m         \u001b[0mline\u001b[0m \u001b[0;34m=\u001b[0m \u001b[0mstr\u001b[0m\u001b[0;34m(\u001b[0m\u001b[0mself\u001b[0m\u001b[0;34m.\u001b[0m\u001b[0mfp\u001b[0m\u001b[0;34m.\u001b[0m\u001b[0mreadline\u001b[0m\u001b[0;34m(\u001b[0m\u001b[0m_MAXLINE\u001b[0m \u001b[0;34m+\u001b[0m \u001b[0;36m1\u001b[0m\u001b[0;34m)\u001b[0m\u001b[0;34m,\u001b[0m \u001b[0;34m\"iso-8859-1\"\u001b[0m\u001b[0;34m)\u001b[0m\u001b[0;34m\u001b[0m\u001b[0;34m\u001b[0m\u001b[0m\n\u001b[0m\u001b[1;32m    287\u001b[0m         \u001b[0;32mif\u001b[0m \u001b[0mlen\u001b[0m\u001b[0;34m(\u001b[0m\u001b[0mline\u001b[0m\u001b[0;34m)\u001b[0m \u001b[0;34m>\u001b[0m \u001b[0m_MAXLINE\u001b[0m\u001b[0;34m:\u001b[0m\u001b[0;34m\u001b[0m\u001b[0;34m\u001b[0m\u001b[0m\n\u001b[1;32m    288\u001b[0m             \u001b[0;32mraise\u001b[0m \u001b[0mLineTooLong\u001b[0m\u001b[0;34m(\u001b[0m\u001b[0;34m\"status line\"\u001b[0m\u001b[0;34m)\u001b[0m\u001b[0;34m\u001b[0m\u001b[0;34m\u001b[0m\u001b[0m\n",
            "\u001b[0;32m/usr/lib/python3.11/socket.py\u001b[0m in \u001b[0;36mreadinto\u001b[0;34m(self, b)\u001b[0m\n\u001b[1;32m    716\u001b[0m         \u001b[0;32mwhile\u001b[0m \u001b[0;32mTrue\u001b[0m\u001b[0;34m:\u001b[0m\u001b[0;34m\u001b[0m\u001b[0;34m\u001b[0m\u001b[0m\n\u001b[1;32m    717\u001b[0m             \u001b[0;32mtry\u001b[0m\u001b[0;34m:\u001b[0m\u001b[0;34m\u001b[0m\u001b[0;34m\u001b[0m\u001b[0m\n\u001b[0;32m--> 718\u001b[0;31m                 \u001b[0;32mreturn\u001b[0m \u001b[0mself\u001b[0m\u001b[0;34m.\u001b[0m\u001b[0m_sock\u001b[0m\u001b[0;34m.\u001b[0m\u001b[0mrecv_into\u001b[0m\u001b[0;34m(\u001b[0m\u001b[0mb\u001b[0m\u001b[0;34m)\u001b[0m\u001b[0;34m\u001b[0m\u001b[0;34m\u001b[0m\u001b[0m\n\u001b[0m\u001b[1;32m    719\u001b[0m             \u001b[0;32mexcept\u001b[0m \u001b[0mtimeout\u001b[0m\u001b[0;34m:\u001b[0m\u001b[0;34m\u001b[0m\u001b[0;34m\u001b[0m\u001b[0m\n\u001b[1;32m    720\u001b[0m                 \u001b[0mself\u001b[0m\u001b[0;34m.\u001b[0m\u001b[0m_timeout_occurred\u001b[0m \u001b[0;34m=\u001b[0m \u001b[0;32mTrue\u001b[0m\u001b[0;34m\u001b[0m\u001b[0;34m\u001b[0m\u001b[0m\n",
            "\u001b[0;32m/usr/lib/python3.11/ssl.py\u001b[0m in \u001b[0;36mrecv_into\u001b[0;34m(self, buffer, nbytes, flags)\u001b[0m\n\u001b[1;32m   1312\u001b[0m                   \u001b[0;34m\"non-zero flags not allowed in calls to recv_into() on %s\"\u001b[0m \u001b[0;34m%\u001b[0m\u001b[0;34m\u001b[0m\u001b[0;34m\u001b[0m\u001b[0m\n\u001b[1;32m   1313\u001b[0m                   self.__class__)\n\u001b[0;32m-> 1314\u001b[0;31m             \u001b[0;32mreturn\u001b[0m \u001b[0mself\u001b[0m\u001b[0;34m.\u001b[0m\u001b[0mread\u001b[0m\u001b[0;34m(\u001b[0m\u001b[0mnbytes\u001b[0m\u001b[0;34m,\u001b[0m \u001b[0mbuffer\u001b[0m\u001b[0;34m)\u001b[0m\u001b[0;34m\u001b[0m\u001b[0;34m\u001b[0m\u001b[0m\n\u001b[0m\u001b[1;32m   1315\u001b[0m         \u001b[0;32melse\u001b[0m\u001b[0;34m:\u001b[0m\u001b[0;34m\u001b[0m\u001b[0;34m\u001b[0m\u001b[0m\n\u001b[1;32m   1316\u001b[0m             \u001b[0;32mreturn\u001b[0m \u001b[0msuper\u001b[0m\u001b[0;34m(\u001b[0m\u001b[0;34m)\u001b[0m\u001b[0;34m.\u001b[0m\u001b[0mrecv_into\u001b[0m\u001b[0;34m(\u001b[0m\u001b[0mbuffer\u001b[0m\u001b[0;34m,\u001b[0m \u001b[0mnbytes\u001b[0m\u001b[0;34m,\u001b[0m \u001b[0mflags\u001b[0m\u001b[0;34m)\u001b[0m\u001b[0;34m\u001b[0m\u001b[0;34m\u001b[0m\u001b[0m\n",
            "\u001b[0;32m/usr/lib/python3.11/ssl.py\u001b[0m in \u001b[0;36mread\u001b[0;34m(self, len, buffer)\u001b[0m\n\u001b[1;32m   1164\u001b[0m         \u001b[0;32mtry\u001b[0m\u001b[0;34m:\u001b[0m\u001b[0;34m\u001b[0m\u001b[0;34m\u001b[0m\u001b[0m\n\u001b[1;32m   1165\u001b[0m             \u001b[0;32mif\u001b[0m \u001b[0mbuffer\u001b[0m \u001b[0;32mis\u001b[0m \u001b[0;32mnot\u001b[0m \u001b[0;32mNone\u001b[0m\u001b[0;34m:\u001b[0m\u001b[0;34m\u001b[0m\u001b[0;34m\u001b[0m\u001b[0m\n\u001b[0;32m-> 1166\u001b[0;31m                 \u001b[0;32mreturn\u001b[0m \u001b[0mself\u001b[0m\u001b[0;34m.\u001b[0m\u001b[0m_sslobj\u001b[0m\u001b[0;34m.\u001b[0m\u001b[0mread\u001b[0m\u001b[0;34m(\u001b[0m\u001b[0mlen\u001b[0m\u001b[0;34m,\u001b[0m \u001b[0mbuffer\u001b[0m\u001b[0;34m)\u001b[0m\u001b[0;34m\u001b[0m\u001b[0;34m\u001b[0m\u001b[0m\n\u001b[0m\u001b[1;32m   1167\u001b[0m             \u001b[0;32melse\u001b[0m\u001b[0;34m:\u001b[0m\u001b[0;34m\u001b[0m\u001b[0;34m\u001b[0m\u001b[0m\n\u001b[1;32m   1168\u001b[0m                 \u001b[0;32mreturn\u001b[0m \u001b[0mself\u001b[0m\u001b[0;34m.\u001b[0m\u001b[0m_sslobj\u001b[0m\u001b[0;34m.\u001b[0m\u001b[0mread\u001b[0m\u001b[0;34m(\u001b[0m\u001b[0mlen\u001b[0m\u001b[0;34m)\u001b[0m\u001b[0;34m\u001b[0m\u001b[0;34m\u001b[0m\u001b[0m\n",
            "\u001b[0;31mKeyboardInterrupt\u001b[0m: "
          ]
        }
      ]
    },
    {
      "cell_type": "code",
      "source": [
        "# Define the file path for saving the Excel file\n",
        "price_file_path = '/content/project_data/test/TTM-EPS.xlsx'\n",
        "fifty_file_path = '/content/project_data/test/PE.xlsx'\n",
        "\n",
        "# Format the 'Date' column before writing to Excel\n",
        "final_price_df['Date'] = final_price_df['Date'].dt.strftime('%Y-%m-%d')  # Format as YYYY-MM-DD\n",
        "final_50DMA_df['Date'] = final_50DMA_df['Date'].dt.strftime('%Y-%m-%d')  # Format as YYYY-MM-DD\n",
        "#final_100DMA_df['Date'] = final_100DMA_df['Date'].dt.strftime('%Y-%m-%d')  # Format as YYYY-MM-DD\n",
        "#final_volume_df['Date'] = final_volume_df['Date'].dt.strftime('%Y-%m-%d')  # Format as YYYY-MM-DD\n",
        "\n",
        "# Write the DataFrame to the Excel file\n",
        "final_price_df.to_excel(price_file_path, index=False)  # Set index=False to avoid writing row index\n",
        "final_50DMA_df.to_excel(fifty_file_path, index=False)  # Set index=False to avoid writing row index\n",
        "#final_100DMA_df.to_excel(hundred_file_path, index=False)  # Set index=False to avoid writing row index\n",
        "#final_volume_df.to_excel(volume_file_path, index=False)  # Set index=False to avoid writing row index\n",
        "\n",
        "print(\"done\")"
      ],
      "metadata": {
        "id": "4Hu3k5CCGkse"
      },
      "execution_count": null,
      "outputs": []
    }
  ]
}