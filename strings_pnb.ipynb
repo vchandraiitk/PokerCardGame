{
  "nbformat": 4,
  "nbformat_minor": 0,
  "metadata": {
    "colab": {
      "provenance": [],
      "include_colab_link": true
    },
    "kernelspec": {
      "name": "python3",
      "display_name": "Python 3"
    },
    "language_info": {
      "name": "python"
    }
  },
  "cells": [
    {
      "cell_type": "markdown",
      "metadata": {
        "id": "view-in-github",
        "colab_type": "text"
      },
      "source": [
        "<a href=\"https://colab.research.google.com/github/vchandraiitk/PokerCardGame/blob/master/strings_pnb.ipynb\" target=\"_parent\"><img src=\"https://colab.research.google.com/assets/colab-badge.svg\" alt=\"Open In Colab\"/></a>"
      ]
    },
    {
      "cell_type": "markdown",
      "source": [
        "## Practice Notebook"
      ],
      "metadata": {
        "id": "12wF6gUYT_We"
      }
    },
    {
      "cell_type": "markdown",
      "source": [
        "## Strings\n",
        "\n",
        "A string is a series of characters. In Python, anything inside \"quotes\" is a string. You can either use 'single quotes' or \"double quotes\".\n",
        "\n",
        "For more info, refer [here](https://www.w3schools.com/python/python_strings.asp)."
      ],
      "metadata": {
        "id": "OJx1Dus7hHsx"
      }
    },
    {
      "cell_type": "markdown",
      "source": [
        "####Exercise 1:\n",
        "\n",
        "Declare the values of a string variable to be 'Tests, Quizzes, Individual Labs, Group Labs and Hackathons'.\n",
        "\n",
        "\n",
        "Print the string."
      ],
      "metadata": {
        "id": "dN-JN2GeYNzP"
      }
    },
    {
      "cell_type": "code",
      "source": [
        "item1 = 'Tests, Quizzes, Individual Labs, Group Labs and Hackathons'\n",
        "print(item1)"
      ],
      "metadata": {
        "id": "PvmSKSuCYAzn",
        "outputId": "a58c0621-66a3-4e19-b621-cf03ba50603c",
        "colab": {
          "base_uri": "https://localhost:8080/"
        }
      },
      "execution_count": null,
      "outputs": [
        {
          "output_type": "stream",
          "name": "stdout",
          "text": [
            "Tests, Quizzes, Individual Labs, Group Labs and Hackathons\n"
          ]
        }
      ]
    },
    {
      "cell_type": "markdown",
      "source": [
        "####Exercise 2:\n",
        "\n",
        "Declare the values of a string variable to be \"I need Tables, Chairs, Cupboards\", in double qoutes.\n",
        "\n",
        "Print the string."
      ],
      "metadata": {
        "id": "_5P3baVHXixq"
      }
    },
    {
      "cell_type": "code",
      "execution_count": null,
      "metadata": {
        "id": "TRkcTF71T1PO",
        "outputId": "783cac00-59d2-4276-822b-883518c70528",
        "colab": {
          "base_uri": "https://localhost:8080/"
        }
      },
      "outputs": [
        {
          "output_type": "stream",
          "name": "stdout",
          "text": [
            "\"I need Tables, Chairs, Cupboards\"\n"
          ]
        }
      ],
      "source": [
        "item2 = '\"I need Tables, Chairs, Cupboards\"'\n",
        "print(item2)"
      ]
    },
    {
      "cell_type": "markdown",
      "source": [
        "####Exercise 3:\n",
        "\n",
        "Concatenate the two string variables declared in Exercise 1 and Exercise 2."
      ],
      "metadata": {
        "id": "-_F548p0cm-Y"
      }
    },
    {
      "cell_type": "code",
      "source": [
        "concatenate_1 = item1 + item2\n",
        "print(concatenate_1)"
      ],
      "metadata": {
        "id": "JEdJQUBkcUHe",
        "outputId": "fb2cd202-e8b5-46bf-b34a-1e4b9c0f18b3",
        "colab": {
          "base_uri": "https://localhost:8080/"
        }
      },
      "execution_count": null,
      "outputs": [
        {
          "output_type": "stream",
          "name": "stdout",
          "text": [
            "Tests, Quizzes, Individual Labs, Group Labs and Hackathons\"I need Tables, Chairs, Cupboards\"\n"
          ]
        }
      ]
    },
    {
      "cell_type": "markdown",
      "source": [
        "####Exercise 4:\n",
        "\n",
        "Write a short note on any topic in python and print the note using single `print` statement."
      ],
      "metadata": {
        "id": "BsMn8suiZSMr"
      }
    },
    {
      "cell_type": "code",
      "source": [
        "note = \"\"\"Triple quoted strings are best used for documentation. They are also useful for storing long strings.\n",
        "\n",
        "1. We can use single or double quotes\n",
        "2. We can also use single quotes or double quotes within\n",
        "3. The line breaks etc are captured.\"\"\"\n",
        "print(note)"
      ],
      "metadata": {
        "id": "ndGfCaAMZEyj",
        "outputId": "43846700-661a-44e2-dc35-cd3ab9fa9dbf",
        "colab": {
          "base_uri": "https://localhost:8080/"
        }
      },
      "execution_count": null,
      "outputs": [
        {
          "output_type": "stream",
          "name": "stdout",
          "text": [
            "Triple quoted strings are best used for documentation. They are also useful for storing long strings.\n",
            "\n",
            "1. We can use single or double quotes\n",
            "2. We can also use single quotes or double quotes within\n",
            "3. The line breaks etc are captured.\n"
          ]
        }
      ]
    },
    {
      "cell_type": "markdown",
      "source": [
        "####Exercise 5:\n",
        "\n",
        "* Concatenate the output of the string in Exercise 3 and output of the string in Exercise 1.\n",
        "* Print the length of the concatenated string.\n"
      ],
      "metadata": {
        "id": "bpzOBwWjdUbO"
      }
    },
    {
      "cell_type": "code",
      "source": [
        "concatenate_2 = concatenate_1 + item1\n",
        "print(concatenate_2)\n",
        "print(len(concatenate_2))"
      ],
      "metadata": {
        "id": "ScREMvsJd4Ig",
        "outputId": "41792ce3-20aa-4e39-f721-c5a14b9df1e1",
        "colab": {
          "base_uri": "https://localhost:8080/"
        }
      },
      "execution_count": null,
      "outputs": [
        {
          "output_type": "stream",
          "name": "stdout",
          "text": [
            "Tests, Quizzes, Individual Labs, Group Labs and Hackathons\"I need Tables, Chairs, Cupboards\"Tests, Quizzes, Individual Labs, Group Labs and Hackathons\n",
            "150\n"
          ]
        }
      ]
    },
    {
      "cell_type": "markdown",
      "source": [
        "#### Exercies 6:\n",
        "\n",
        "Perform simple string operations for A = \"Hello\", B = \"world!\":\n",
        " * Concatenate by +.\n",
        " * Multiple concatenation by *  (ex: 4 * A + \" \" * 3 + B * 2).\n",
        " * Check for substring with `in`.\n",
        " * Determine the size (number of characters) using `len`."
      ],
      "metadata": {
        "id": "zrvj2kICovvo"
      }
    },
    {
      "cell_type": "code",
      "source": [
        "A = \"Hello\"\n",
        "B = \"world!\"\n",
        "AB = A + B\n",
        "print(AB)\n",
        "print(\"=================================\")\n",
        "h4s3w2 = 4 * A + \" \" * 3 + B * 2\n",
        "print(h4s3w2)\n",
        "\n",
        "print(\"=================================\")\n",
        "print(A in h4s3w2)\n",
        "print(\"=================================\")\n",
        "print(len(AB))"
      ],
      "metadata": {
        "id": "mUwqIlhnpBPe",
        "outputId": "e45b6e2a-ccdb-460f-9046-ceb29484026c",
        "colab": {
          "base_uri": "https://localhost:8080/"
        }
      },
      "execution_count": null,
      "outputs": [
        {
          "output_type": "stream",
          "name": "stdout",
          "text": [
            "Helloworld!\n",
            "=================================\n",
            "HelloHelloHelloHello   world!world!\n",
            "=================================\n",
            "True\n",
            "=================================\n",
            "11\n"
          ]
        }
      ]
    },
    {
      "cell_type": "markdown",
      "source": [
        "####Exercies 7:\n",
        "\n",
        "For given variable name = 'hELLO, WORLD!', perform the following:\n",
        "* Print the character '!'.\n",
        "* Convert the string to lowercase.\n",
        "* Print the first character in upper case.\n",
        "* Print a string where all the upper case letters are lower case and vice versa.\n"
      ],
      "metadata": {
        "id": "t_RU_DjFqMF-"
      }
    },
    {
      "cell_type": "code",
      "source": [
        "name = 'hELLO, WORLD!'\n",
        "print(name[12])"
      ],
      "metadata": {
        "id": "JeDkZaQxpamY",
        "outputId": "aa61a04d-a3fa-494a-cd37-71f0f250f5f7",
        "colab": {
          "base_uri": "https://localhost:8080/"
        }
      },
      "execution_count": null,
      "outputs": [
        {
          "output_type": "stream",
          "name": "stdout",
          "text": [
            "!\n"
          ]
        }
      ]
    },
    {
      "cell_type": "code",
      "source": [
        "# The lower() method returns a string converted to lowercase.\n",
        "lowercase_name = name.lower()\n",
        "\n",
        "print(lowercase_name)"
      ],
      "metadata": {
        "id": "B8n5iU_-snKH",
        "outputId": "7987efb9-ebc3-4e8d-d355-b7a5c0f7508d",
        "colab": {
          "base_uri": "https://localhost:8080/"
        }
      },
      "execution_count": null,
      "outputs": [
        {
          "output_type": "stream",
          "name": "stdout",
          "text": [
            "hello, world!\n"
          ]
        }
      ]
    },
    {
      "cell_type": "code",
      "source": [
        "print(name.capitalize())"
      ],
      "metadata": {
        "id": "8d0wOfi3Zsd-",
        "outputId": "625bf3f8-3d04-4ba9-ec5b-7933fe55b35d",
        "colab": {
          "base_uri": "https://localhost:8080/"
        }
      },
      "execution_count": null,
      "outputs": [
        {
          "output_type": "stream",
          "name": "stdout",
          "text": [
            "Hello, world!\n"
          ]
        }
      ]
    },
    {
      "cell_type": "code",
      "source": [
        "print(name.swapcase())"
      ],
      "metadata": {
        "id": "hYOmJNw4aOL9",
        "outputId": "82d70049-36e3-49f3-f088-86880d1aa868",
        "colab": {
          "base_uri": "https://localhost:8080/"
        }
      },
      "execution_count": null,
      "outputs": [
        {
          "output_type": "stream",
          "name": "stdout",
          "text": [
            "Hello, world!\n"
          ]
        }
      ]
    },
    {
      "cell_type": "markdown",
      "source": [
        "#### Exercies 8:\n",
        "\n",
        "For a given string,  perform the following:\n",
        "* Using `for` to iterate over a string in Python.\n",
        "* Print the number of times the letter/character ‘s’ appears in a string."
      ],
      "metadata": {
        "id": "3wNoT59o2HAi"
      }
    },
    {
      "cell_type": "code",
      "source": [
        "a = \"Python Classes\"\n",
        "for char in a:\n",
        "   print(char)"
      ],
      "metadata": {
        "id": "C52n7pwL0_dZ",
        "outputId": "39005e8c-15c3-4296-9947-83ebadb6257b",
        "colab": {
          "base_uri": "https://localhost:8080/"
        }
      },
      "execution_count": null,
      "outputs": [
        {
          "output_type": "stream",
          "name": "stdout",
          "text": [
            "P\n",
            "y\n",
            "t\n",
            "h\n",
            "o\n",
            "n\n",
            " \n",
            "C\n",
            "l\n",
            "a\n",
            "s\n",
            "s\n",
            "e\n",
            "s\n"
          ]
        }
      ]
    },
    {
      "cell_type": "code",
      "source": [
        "a  = \"Python Classes\"\n",
        "count = 0\n",
        "for letter in a:\n",
        "    if letter == 's':\n",
        "        count = count +1\n",
        "print(count)"
      ],
      "metadata": {
        "id": "5zjqFGxI3Epa",
        "outputId": "0268ecc3-491d-48f9-eeff-2707c029e64f",
        "colab": {
          "base_uri": "https://localhost:8080/"
        }
      },
      "execution_count": null,
      "outputs": [
        {
          "output_type": "stream",
          "name": "stdout",
          "text": [
            "3\n"
          ]
        }
      ]
    },
    {
      "cell_type": "markdown",
      "source": [
        "#### Exercies 9:\n",
        "\n",
        "For a given list, perform the following:\n",
        "\n",
        "* Print the list in reverse oder.\n",
        "\n",
        "* Print the following my_list[-1].\n",
        "\n",
        "* Print the following output  [2, 33, 222, 14] using slice method."
      ],
      "metadata": {
        "id": "LelhQmty6yac"
      }
    },
    {
      "cell_type": "code",
      "source": [
        "my_list = [2, 33, 222, 14, 25]\n",
        "print(my_list[::-1])"
      ],
      "metadata": {
        "id": "62p4fL9g-5rH",
        "outputId": "eec3344a-ed39-4cf1-a9fc-84a8af5b17ff",
        "colab": {
          "base_uri": "https://localhost:8080/"
        }
      },
      "execution_count": null,
      "outputs": [
        {
          "output_type": "stream",
          "name": "stdout",
          "text": [
            "[25, 14, 222, 33, 2]\n"
          ]
        }
      ]
    },
    {
      "cell_type": "code",
      "source": [
        "my_list = [2, 33, 222, 14, 25]\n",
        "print(my_list[-1])"
      ],
      "metadata": {
        "id": "2-tNVH8R4lIC",
        "outputId": "d8ef2801-5124-4c34-cf5e-37f7b07b83a7",
        "colab": {
          "base_uri": "https://localhost:8080/"
        }
      },
      "execution_count": null,
      "outputs": [
        {
          "output_type": "stream",
          "name": "stdout",
          "text": [
            "25\n"
          ]
        }
      ]
    },
    {
      "cell_type": "code",
      "source": [
        "my_list = [2, 33, 222, 14, 25]\n",
        "print(my_list[:-1])"
      ],
      "metadata": {
        "id": "HTkPuU97-x0C",
        "outputId": "cc7566b0-4b71-4ef8-c2bd-c066545bca29",
        "colab": {
          "base_uri": "https://localhost:8080/"
        }
      },
      "execution_count": null,
      "outputs": [
        {
          "output_type": "stream",
          "name": "stdout",
          "text": [
            "[2, 33, 222, 14]\n"
          ]
        }
      ]
    },
    {
      "cell_type": "markdown",
      "source": [
        "#### Exercies 10:\n",
        "\n",
        "For given string, perform following methods:\n",
        "\n",
        "* Split the string by using 'word.split' and print the result.\n",
        "* Replace MachineLearning by Python using `.replace()`."
      ],
      "metadata": {
        "id": "iXRD9t9QaXRF"
      }
    },
    {
      "cell_type": "code",
      "source": [
        "word=\"MachineLearning career\"\n",
        "print(word.split(' '))"
      ],
      "metadata": {
        "id": "TKyKwj8k_qOW",
        "outputId": "530564d5-3422-4a0e-d50b-3d273cec4bbb",
        "colab": {
          "base_uri": "https://localhost:8080/"
        }
      },
      "execution_count": null,
      "outputs": [
        {
          "output_type": "stream",
          "name": "stdout",
          "text": [
            "['MachineLearning', 'career']\n"
          ]
        }
      ]
    },
    {
      "cell_type": "code",
      "source": [
        "x = word.replace(\"MachineLearning\",\"Python\")\n",
        "print(x)"
      ],
      "metadata": {
        "id": "4UBSAXI0cYxM",
        "outputId": "f434a930-81b4-41f7-e630-a0e4f121f2e3",
        "colab": {
          "base_uri": "https://localhost:8080/"
        }
      },
      "execution_count": null,
      "outputs": [
        {
          "output_type": "stream",
          "name": "stdout",
          "text": [
            "Python career\n"
          ]
        }
      ]
    }
  ]
}