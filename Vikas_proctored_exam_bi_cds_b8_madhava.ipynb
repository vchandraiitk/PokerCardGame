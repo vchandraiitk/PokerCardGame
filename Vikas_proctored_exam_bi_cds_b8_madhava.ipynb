{
  "nbformat": 4,
  "nbformat_minor": 0,
  "metadata": {
    "colab": {
      "provenance": [],
      "include_colab_link": true
    },
    "kernelspec": {
      "name": "python3",
      "display_name": "Python 3"
    },
    "language_info": {
      "name": "python"
    }
  },
  "cells": [
    {
      "cell_type": "markdown",
      "metadata": {
        "id": "view-in-github",
        "colab_type": "text"
      },
      "source": [
        "<a href=\"https://colab.research.google.com/github/vchandraiitk/PokerCardGame/blob/master/Vikas_proctored_exam_bi_cds_b8_madhava.ipynb\" target=\"_parent\"><img src=\"https://colab.research.google.com/assets/colab-badge.svg\" alt=\"Open In Colab\"/></a>"
      ]
    },
    {
      "cell_type": "code",
      "execution_count": 27,
      "metadata": {
        "id": "wUhY65XtDOef"
      },
      "outputs": [],
      "source": [
        "!wget -qq https://raw.githubusercontent.com/jbrownlee/Datasets/master/monthly-car-sales.csv"
      ]
    },
    {
      "cell_type": "code",
      "source": [
        "import warnings\n",
        "import pandas as pd\n",
        "import numpy as np\n",
        "import statsmodels.api as sm\n",
        "import matplotlib.pyplot as plt\n",
        "from statsmodels.tsa.statespace.sarimax import SARIMAX"
      ],
      "metadata": {
        "id": "WpWfYXgEDb3Z"
      },
      "execution_count": 28,
      "outputs": []
    },
    {
      "cell_type": "code",
      "source": [
        "df_car_sales = pd.read_csv(\"monthly-car-sales.csv\")"
      ],
      "metadata": {
        "id": "dwqK05E_Dec_"
      },
      "execution_count": 29,
      "outputs": []
    },
    {
      "cell_type": "code",
      "source": [
        "df_car_sales.head()"
      ],
      "metadata": {
        "colab": {
          "base_uri": "https://localhost:8080/",
          "height": 206
        },
        "id": "2tuyS5rmDucv",
        "outputId": "485fd9e2-d537-42eb-c19e-2394e3cffcd2"
      },
      "execution_count": 30,
      "outputs": [
        {
          "output_type": "execute_result",
          "data": {
            "text/plain": [
              "     Month  Sales\n",
              "0  1960-01   6550\n",
              "1  1960-02   8728\n",
              "2  1960-03  12026\n",
              "3  1960-04  14395\n",
              "4  1960-05  14587"
            ],
            "text/html": [
              "\n",
              "  <div id=\"df-85b25ab7-1a14-4616-812f-868fae82761b\" class=\"colab-df-container\">\n",
              "    <div>\n",
              "<style scoped>\n",
              "    .dataframe tbody tr th:only-of-type {\n",
              "        vertical-align: middle;\n",
              "    }\n",
              "\n",
              "    .dataframe tbody tr th {\n",
              "        vertical-align: top;\n",
              "    }\n",
              "\n",
              "    .dataframe thead th {\n",
              "        text-align: right;\n",
              "    }\n",
              "</style>\n",
              "<table border=\"1\" class=\"dataframe\">\n",
              "  <thead>\n",
              "    <tr style=\"text-align: right;\">\n",
              "      <th></th>\n",
              "      <th>Month</th>\n",
              "      <th>Sales</th>\n",
              "    </tr>\n",
              "  </thead>\n",
              "  <tbody>\n",
              "    <tr>\n",
              "      <th>0</th>\n",
              "      <td>1960-01</td>\n",
              "      <td>6550</td>\n",
              "    </tr>\n",
              "    <tr>\n",
              "      <th>1</th>\n",
              "      <td>1960-02</td>\n",
              "      <td>8728</td>\n",
              "    </tr>\n",
              "    <tr>\n",
              "      <th>2</th>\n",
              "      <td>1960-03</td>\n",
              "      <td>12026</td>\n",
              "    </tr>\n",
              "    <tr>\n",
              "      <th>3</th>\n",
              "      <td>1960-04</td>\n",
              "      <td>14395</td>\n",
              "    </tr>\n",
              "    <tr>\n",
              "      <th>4</th>\n",
              "      <td>1960-05</td>\n",
              "      <td>14587</td>\n",
              "    </tr>\n",
              "  </tbody>\n",
              "</table>\n",
              "</div>\n",
              "    <div class=\"colab-df-buttons\">\n",
              "\n",
              "  <div class=\"colab-df-container\">\n",
              "    <button class=\"colab-df-convert\" onclick=\"convertToInteractive('df-85b25ab7-1a14-4616-812f-868fae82761b')\"\n",
              "            title=\"Convert this dataframe to an interactive table.\"\n",
              "            style=\"display:none;\">\n",
              "\n",
              "  <svg xmlns=\"http://www.w3.org/2000/svg\" height=\"24px\" viewBox=\"0 -960 960 960\">\n",
              "    <path d=\"M120-120v-720h720v720H120Zm60-500h600v-160H180v160Zm220 220h160v-160H400v160Zm0 220h160v-160H400v160ZM180-400h160v-160H180v160Zm440 0h160v-160H620v160ZM180-180h160v-160H180v160Zm440 0h160v-160H620v160Z\"/>\n",
              "  </svg>\n",
              "    </button>\n",
              "\n",
              "  <style>\n",
              "    .colab-df-container {\n",
              "      display:flex;\n",
              "      gap: 12px;\n",
              "    }\n",
              "\n",
              "    .colab-df-convert {\n",
              "      background-color: #E8F0FE;\n",
              "      border: none;\n",
              "      border-radius: 50%;\n",
              "      cursor: pointer;\n",
              "      display: none;\n",
              "      fill: #1967D2;\n",
              "      height: 32px;\n",
              "      padding: 0 0 0 0;\n",
              "      width: 32px;\n",
              "    }\n",
              "\n",
              "    .colab-df-convert:hover {\n",
              "      background-color: #E2EBFA;\n",
              "      box-shadow: 0px 1px 2px rgba(60, 64, 67, 0.3), 0px 1px 3px 1px rgba(60, 64, 67, 0.15);\n",
              "      fill: #174EA6;\n",
              "    }\n",
              "\n",
              "    .colab-df-buttons div {\n",
              "      margin-bottom: 4px;\n",
              "    }\n",
              "\n",
              "    [theme=dark] .colab-df-convert {\n",
              "      background-color: #3B4455;\n",
              "      fill: #D2E3FC;\n",
              "    }\n",
              "\n",
              "    [theme=dark] .colab-df-convert:hover {\n",
              "      background-color: #434B5C;\n",
              "      box-shadow: 0px 1px 3px 1px rgba(0, 0, 0, 0.15);\n",
              "      filter: drop-shadow(0px 1px 2px rgba(0, 0, 0, 0.3));\n",
              "      fill: #FFFFFF;\n",
              "    }\n",
              "  </style>\n",
              "\n",
              "    <script>\n",
              "      const buttonEl =\n",
              "        document.querySelector('#df-85b25ab7-1a14-4616-812f-868fae82761b button.colab-df-convert');\n",
              "      buttonEl.style.display =\n",
              "        google.colab.kernel.accessAllowed ? 'block' : 'none';\n",
              "\n",
              "      async function convertToInteractive(key) {\n",
              "        const element = document.querySelector('#df-85b25ab7-1a14-4616-812f-868fae82761b');\n",
              "        const dataTable =\n",
              "          await google.colab.kernel.invokeFunction('convertToInteractive',\n",
              "                                                    [key], {});\n",
              "        if (!dataTable) return;\n",
              "\n",
              "        const docLinkHtml = 'Like what you see? Visit the ' +\n",
              "          '<a target=\"_blank\" href=https://colab.research.google.com/notebooks/data_table.ipynb>data table notebook</a>'\n",
              "          + ' to learn more about interactive tables.';\n",
              "        element.innerHTML = '';\n",
              "        dataTable['output_type'] = 'display_data';\n",
              "        await google.colab.output.renderOutput(dataTable, element);\n",
              "        const docLink = document.createElement('div');\n",
              "        docLink.innerHTML = docLinkHtml;\n",
              "        element.appendChild(docLink);\n",
              "      }\n",
              "    </script>\n",
              "  </div>\n",
              "\n",
              "\n",
              "<div id=\"df-75036e7b-76d0-4cdc-b940-dd27fc0074a8\">\n",
              "  <button class=\"colab-df-quickchart\" onclick=\"quickchart('df-75036e7b-76d0-4cdc-b940-dd27fc0074a8')\"\n",
              "            title=\"Suggest charts\"\n",
              "            style=\"display:none;\">\n",
              "\n",
              "<svg xmlns=\"http://www.w3.org/2000/svg\" height=\"24px\"viewBox=\"0 0 24 24\"\n",
              "     width=\"24px\">\n",
              "    <g>\n",
              "        <path d=\"M19 3H5c-1.1 0-2 .9-2 2v14c0 1.1.9 2 2 2h14c1.1 0 2-.9 2-2V5c0-1.1-.9-2-2-2zM9 17H7v-7h2v7zm4 0h-2V7h2v10zm4 0h-2v-4h2v4z\"/>\n",
              "    </g>\n",
              "</svg>\n",
              "  </button>\n",
              "\n",
              "<style>\n",
              "  .colab-df-quickchart {\n",
              "      --bg-color: #E8F0FE;\n",
              "      --fill-color: #1967D2;\n",
              "      --hover-bg-color: #E2EBFA;\n",
              "      --hover-fill-color: #174EA6;\n",
              "      --disabled-fill-color: #AAA;\n",
              "      --disabled-bg-color: #DDD;\n",
              "  }\n",
              "\n",
              "  [theme=dark] .colab-df-quickchart {\n",
              "      --bg-color: #3B4455;\n",
              "      --fill-color: #D2E3FC;\n",
              "      --hover-bg-color: #434B5C;\n",
              "      --hover-fill-color: #FFFFFF;\n",
              "      --disabled-bg-color: #3B4455;\n",
              "      --disabled-fill-color: #666;\n",
              "  }\n",
              "\n",
              "  .colab-df-quickchart {\n",
              "    background-color: var(--bg-color);\n",
              "    border: none;\n",
              "    border-radius: 50%;\n",
              "    cursor: pointer;\n",
              "    display: none;\n",
              "    fill: var(--fill-color);\n",
              "    height: 32px;\n",
              "    padding: 0;\n",
              "    width: 32px;\n",
              "  }\n",
              "\n",
              "  .colab-df-quickchart:hover {\n",
              "    background-color: var(--hover-bg-color);\n",
              "    box-shadow: 0 1px 2px rgba(60, 64, 67, 0.3), 0 1px 3px 1px rgba(60, 64, 67, 0.15);\n",
              "    fill: var(--button-hover-fill-color);\n",
              "  }\n",
              "\n",
              "  .colab-df-quickchart-complete:disabled,\n",
              "  .colab-df-quickchart-complete:disabled:hover {\n",
              "    background-color: var(--disabled-bg-color);\n",
              "    fill: var(--disabled-fill-color);\n",
              "    box-shadow: none;\n",
              "  }\n",
              "\n",
              "  .colab-df-spinner {\n",
              "    border: 2px solid var(--fill-color);\n",
              "    border-color: transparent;\n",
              "    border-bottom-color: var(--fill-color);\n",
              "    animation:\n",
              "      spin 1s steps(1) infinite;\n",
              "  }\n",
              "\n",
              "  @keyframes spin {\n",
              "    0% {\n",
              "      border-color: transparent;\n",
              "      border-bottom-color: var(--fill-color);\n",
              "      border-left-color: var(--fill-color);\n",
              "    }\n",
              "    20% {\n",
              "      border-color: transparent;\n",
              "      border-left-color: var(--fill-color);\n",
              "      border-top-color: var(--fill-color);\n",
              "    }\n",
              "    30% {\n",
              "      border-color: transparent;\n",
              "      border-left-color: var(--fill-color);\n",
              "      border-top-color: var(--fill-color);\n",
              "      border-right-color: var(--fill-color);\n",
              "    }\n",
              "    40% {\n",
              "      border-color: transparent;\n",
              "      border-right-color: var(--fill-color);\n",
              "      border-top-color: var(--fill-color);\n",
              "    }\n",
              "    60% {\n",
              "      border-color: transparent;\n",
              "      border-right-color: var(--fill-color);\n",
              "    }\n",
              "    80% {\n",
              "      border-color: transparent;\n",
              "      border-right-color: var(--fill-color);\n",
              "      border-bottom-color: var(--fill-color);\n",
              "    }\n",
              "    90% {\n",
              "      border-color: transparent;\n",
              "      border-bottom-color: var(--fill-color);\n",
              "    }\n",
              "  }\n",
              "</style>\n",
              "\n",
              "  <script>\n",
              "    async function quickchart(key) {\n",
              "      const quickchartButtonEl =\n",
              "        document.querySelector('#' + key + ' button');\n",
              "      quickchartButtonEl.disabled = true;  // To prevent multiple clicks.\n",
              "      quickchartButtonEl.classList.add('colab-df-spinner');\n",
              "      try {\n",
              "        const charts = await google.colab.kernel.invokeFunction(\n",
              "            'suggestCharts', [key], {});\n",
              "      } catch (error) {\n",
              "        console.error('Error during call to suggestCharts:', error);\n",
              "      }\n",
              "      quickchartButtonEl.classList.remove('colab-df-spinner');\n",
              "      quickchartButtonEl.classList.add('colab-df-quickchart-complete');\n",
              "    }\n",
              "    (() => {\n",
              "      let quickchartButtonEl =\n",
              "        document.querySelector('#df-75036e7b-76d0-4cdc-b940-dd27fc0074a8 button');\n",
              "      quickchartButtonEl.style.display =\n",
              "        google.colab.kernel.accessAllowed ? 'block' : 'none';\n",
              "    })();\n",
              "  </script>\n",
              "</div>\n",
              "\n",
              "    </div>\n",
              "  </div>\n"
            ],
            "application/vnd.google.colaboratory.intrinsic+json": {
              "type": "dataframe",
              "variable_name": "df_car_sales",
              "summary": "{\n  \"name\": \"df_car_sales\",\n  \"rows\": 108,\n  \"fields\": [\n    {\n      \"column\": \"Month\",\n      \"properties\": {\n        \"dtype\": \"object\",\n        \"num_unique_values\": 108,\n        \"samples\": [\n          \"1966-06\",\n          \"1960-11\",\n          \"1960-05\"\n        ],\n        \"semantic_type\": \"\",\n        \"description\": \"\"\n      }\n    },\n    {\n      \"column\": \"Sales\",\n      \"properties\": {\n        \"dtype\": \"number\",\n        \"std\": 4525,\n        \"min\": 5568,\n        \"max\": 26099,\n        \"num_unique_values\": 108,\n        \"samples\": [\n          19933,\n          9364,\n          14587\n        ],\n        \"semantic_type\": \"\",\n        \"description\": \"\"\n      }\n    }\n  ]\n}"
            }
          },
          "metadata": {},
          "execution_count": 30
        }
      ]
    },
    {
      "cell_type": "code",
      "source": [
        "# Question A\n",
        "# Plot the time series and comment on trend and seasonality\n",
        "\n",
        "# Convert Month to be an index in the dataframe\n",
        "df_car_sales.set_index(\"Month\", inplace=True)\n",
        "df_car_sales.plot()"
      ],
      "metadata": {
        "colab": {
          "base_uri": "https://localhost:8080/",
          "height": 466
        },
        "id": "LO8ZtJseDk5E",
        "outputId": "b2e542d4-53b0-4fd9-c5ac-73d3d4d048b9"
      },
      "execution_count": 31,
      "outputs": [
        {
          "output_type": "execute_result",
          "data": {
            "text/plain": [
              "<Axes: xlabel='Month'>"
            ]
          },
          "metadata": {},
          "execution_count": 31
        },
        {
          "output_type": "display_data",
          "data": {
            "text/plain": [
              "<Figure size 640x480 with 1 Axes>"
            ],
            "image/png": "[encoded data removed]"
          },
          "metadata": {}
        }
      ]
    },
    {
      "cell_type": "markdown",
      "source": [
        "**Answer A**: As seen from the graph above, there is an upward trend.\n",
        "\n",
        "Also, the graph seems to have seasonality."
      ],
      "metadata": {
        "id": "xS6UE4--ESVH"
      }
    },
    {
      "cell_type": "code",
      "source": [
        "# Question B - To check if the time series is staitonary\n",
        "# Check if time series is stationary using ADF Test\n",
        "from statsmodels.tsa.stattools import adfuller\n",
        "\n",
        "def stationarity(time_series):\n",
        "    result = adfuller(time_series)\n",
        "    print(f\"ADF Statistic: {result[0]}\")\n",
        "    print(f\"p-value: {result[1]}\")\n",
        "    if result[1] <= 0.05:\n",
        "        print(\"Time series is stationary\")\n",
        "        return True\n",
        "    else:\n",
        "        print(\"Time series is non-stationary\")\n",
        "        return False\n",
        "\n",
        "stationarity(df_car_sales[\"Sales\"])"
      ],
      "metadata": {
        "colab": {
          "base_uri": "https://localhost:8080/"
        },
        "id": "rF65i2COFHlG",
        "outputId": "aa14913b-b0ed-4674-a3da-ad71d5a2d8fa"
      },
      "execution_count": 32,
      "outputs": [
        {
          "output_type": "stream",
          "name": "stdout",
          "text": [
            "ADF Statistic: -1.2238127661752858\n",
            "p-value: 0.6632691049832861\n",
            "Time series is non-stationary\n"
          ]
        },
        {
          "output_type": "execute_result",
          "data": {
            "text/plain": [
              "False"
            ]
          },
          "metadata": {},
          "execution_count": 32
        }
      ]
    },
    {
      "cell_type": "markdown",
      "source": [
        "**Answer B**: p-value(0.6632) > 0.05, we cannot reject null hypothesis.\n",
        "Hence the **Time series is Non-stationary**"
      ],
      "metadata": {
        "id": "epPFyQ1yFMvo"
      }
    },
    {
      "cell_type": "code",
      "source": [
        "# Question C - To make the time series stationary suitably and again test.\n",
        "\n",
        "# Perform first order differencing and see if the series gets stationary\n",
        "car_sales_diff = df_car_sales.diff()\n",
        "car_sales_diff.dropna(inplace=True)\n",
        "is_stationary = stationarity(car_sales_diff[\"Sales\"])\n",
        "if is_stationary:\n",
        "    print(\"Yes, the time series is stationary\")\n",
        "else:\n",
        "    print(\"No, the time series is non-stationary\")"
      ],
      "metadata": {
        "colab": {
          "base_uri": "https://localhost:8080/"
        },
        "id": "UCGt_P9NFavt",
        "outputId": "8becf70e-c60a-4842-d205-a60a62b32b6c"
      },
      "execution_count": 33,
      "outputs": [
        {
          "output_type": "stream",
          "name": "stdout",
          "text": [
            "ADF Statistic: -6.1997992308006955\n",
            "p-value: 5.8447525992768446e-08\n",
            "Time series is stationary\n",
            "Yes, the time series is stationary\n"
          ]
        }
      ]
    },
    {
      "cell_type": "markdown",
      "source": [
        "**Answer C**: Applied first-order differencing and re-ran the ADF test. The results confirm that the time series is now stationary."
      ],
      "metadata": {
        "id": "vThSb3TnGeG6"
      }
    },
    {
      "cell_type": "code",
      "source": [
        "# Question D - Plot ACF and PACF Plot\n",
        "from statsmodels.graphics.tsaplots import plot_acf, plot_pacf\n",
        "\n",
        "plot_acf(car_sales_diff[\"Sales\"])\n",
        "plot_pacf(car_sales_diff[\"Sales\"])"
      ],
      "metadata": {
        "colab": {
          "base_uri": "https://localhost:8080/",
          "height": 1000
        },
        "id": "8T-6c-DmGy6r",
        "outputId": "691dcd33-e871-4ed7-e097-15d2bf7adabc"
      },
      "execution_count": 34,
      "outputs": [
        {
          "output_type": "execute_result",
          "data": {
            "text/plain": [
              "<Figure size 640x480 with 1 Axes>"
            ],
            "image/png": "[encoded data removed]"
          },
          "metadata": {},
          "execution_count": 34
        },
        {
          "output_type": "display_data",
          "data": {
            "text/plain": [
              "<Figure size 640x480 with 1 Axes>"
            ],
            "image/png": "[encoded data removed]"
          },
          "metadata": {}
        },
        {
          "output_type": "display_data",
          "data": {
            "text/plain": [
              "<Figure size 640x480 with 1 Axes>"
            ],
            "image/png": "[encoded data removed]"
          },
          "metadata": {}
        }
      ]
    },
    {
      "cell_type": "markdown",
      "source": [
        "**Answer D**: A seasonal pattern is observed with a periodicity of 12 months, indicating a seasonality parameter of **s = 12**."
      ],
      "metadata": {
        "id": "v_leU3qLH7NE"
      }
    },
    {
      "cell_type": "code",
      "source": [
        "# Question E - To observe the model for various values of p,d,q,P,D,Q,s\n",
        "def sarimax_model(log_car_sales,order,seasonal_order):\n",
        "    model = SARIMAX(log_car_sales,order=order,seasonal_order=seasonal_order)\n",
        "    model_fit = model.fit()\n",
        "    return model_fit"
      ],
      "metadata": {
        "id": "Z0rnm91BIMIX"
      },
      "execution_count": 35,
      "outputs": []
    },
    {
      "cell_type": "code",
      "source": [
        "# Option 1: p=2,q=0, P=2, Q=0, d,D =1\n",
        "order = (2,1,0)\n",
        "seasonal_order = (2,1,0,12)\n",
        "model_fit = sarimax_model(df_car_sales[\"Sales\"],order,seasonal_order)\n",
        "print(model_fit.summary())"
      ],
      "metadata": {
        "colab": {
          "base_uri": "https://localhost:8080/"
        },
        "id": "aKTs5ggHJMD3",
        "outputId": "e6c5a74f-e72e-4c8e-f27c-c3693165a5f9"
      },
      "execution_count": 36,
      "outputs": [
        {
          "output_type": "stream",
          "name": "stderr",
          "text": [
            "/usr/local/lib/python3.11/dist-packages/statsmodels/tsa/base/tsa_model.py:473: ValueWarning: No frequency information was provided, so inferred frequency MS will be used.\n",
            "  self._init_dates(dates, freq)\n",
            "/usr/local/lib/python3.11/dist-packages/statsmodels/tsa/base/tsa_model.py:473: ValueWarning: No frequency information was provided, so inferred frequency MS will be used.\n",
            "  self._init_dates(dates, freq)\n"
          ]
        },
        {
          "output_type": "stream",
          "name": "stdout",
          "text": [
            "                                     SARIMAX Results                                      \n",
            "==========================================================================================\n",
            "Dep. Variable:                              Sales   No. Observations:                  108\n",
            "Model:             SARIMAX(2, 1, 0)x(2, 1, 0, 12)   Log Likelihood                -842.935\n",
            "Date:                            Tue, 08 Apr 2025   AIC                           1695.871\n",
            "Time:                                    02:12:49   BIC                           1708.640\n",
            "Sample:                                01-01-1960   HQIC                          1701.031\n",
            "                                     - 12-01-1968                                         \n",
            "Covariance Type:                              opg                                         \n",
            "==============================================================================\n",
            "                 coef    std err          z      P>|z|      [0.025      0.975]\n",
            "------------------------------------------------------------------------------\n",
            "ar.L1         -0.5575      0.113     -4.953      0.000      -0.778      -0.337\n",
            "ar.L2         -0.2364      0.127     -1.856      0.064      -0.486       0.013\n",
            "ar.S.L12      -0.4026      0.133     -3.023      0.002      -0.664      -0.142\n",
            "ar.S.L24      -0.0707      0.144     -0.493      0.622      -0.352       0.211\n",
            "sigma2      3.375e+06   7.56e+05      4.462      0.000    1.89e+06    4.86e+06\n",
            "===================================================================================\n",
            "Ljung-Box (L1) (Q):                   0.40   Jarque-Bera (JB):                 3.58\n",
            "Prob(Q):                              0.53   Prob(JB):                         0.17\n",
            "Heteroskedasticity (H):               1.15   Skew:                             0.23\n",
            "Prob(H) (two-sided):                  0.69   Kurtosis:                         2.17\n",
            "===================================================================================\n",
            "\n",
            "Warnings:\n",
            "[1] Covariance matrix calculated using the outer product of gradients (complex-step).\n"
          ]
        }
      ]
    },
    {
      "cell_type": "code",
      "source": [
        "# Option 2: p=2,q=1,P=2,Q=1\n",
        "order = (2,1,0)\n",
        "seasonal_order = (2,1,0,12)\n",
        "model_fit = sarimax_model(df_car_sales[\"Sales\"],order,seasonal_order)\n",
        "print(model_fit.summary())"
      ],
      "metadata": {
        "colab": {
          "base_uri": "https://localhost:8080/"
        },
        "id": "zrFytpnbIxc1",
        "outputId": "0687038d-c40a-4778-8a11-c4bda5a2a3e6"
      },
      "execution_count": 37,
      "outputs": [
        {
          "output_type": "stream",
          "name": "stderr",
          "text": [
            "/usr/local/lib/python3.11/dist-packages/statsmodels/tsa/base/tsa_model.py:473: ValueWarning: No frequency information was provided, so inferred frequency MS will be used.\n",
            "  self._init_dates(dates, freq)\n",
            "/usr/local/lib/python3.11/dist-packages/statsmodels/tsa/base/tsa_model.py:473: ValueWarning: No frequency information was provided, so inferred frequency MS will be used.\n",
            "  self._init_dates(dates, freq)\n"
          ]
        },
        {
          "output_type": "stream",
          "name": "stdout",
          "text": [
            "                                     SARIMAX Results                                      \n",
            "==========================================================================================\n",
            "Dep. Variable:                              Sales   No. Observations:                  108\n",
            "Model:             SARIMAX(2, 1, 0)x(2, 1, 0, 12)   Log Likelihood                -842.935\n",
            "Date:                            Tue, 08 Apr 2025   AIC                           1695.871\n",
            "Time:                                    02:12:50   BIC                           1708.640\n",
            "Sample:                                01-01-1960   HQIC                          1701.031\n",
            "                                     - 12-01-1968                                         \n",
            "Covariance Type:                              opg                                         \n",
            "==============================================================================\n",
            "                 coef    std err          z      P>|z|      [0.025      0.975]\n",
            "------------------------------------------------------------------------------\n",
            "ar.L1         -0.5575      0.113     -4.953      0.000      -0.778      -0.337\n",
            "ar.L2         -0.2364      0.127     -1.856      0.064      -0.486       0.013\n",
            "ar.S.L12      -0.4026      0.133     -3.023      0.002      -0.664      -0.142\n",
            "ar.S.L24      -0.0707      0.144     -0.493      0.622      -0.352       0.211\n",
            "sigma2      3.375e+06   7.56e+05      4.462      0.000    1.89e+06    4.86e+06\n",
            "===================================================================================\n",
            "Ljung-Box (L1) (Q):                   0.40   Jarque-Bera (JB):                 3.58\n",
            "Prob(Q):                              0.53   Prob(JB):                         0.17\n",
            "Heteroskedasticity (H):               1.15   Skew:                             0.23\n",
            "Prob(H) (two-sided):                  0.69   Kurtosis:                         2.17\n",
            "===================================================================================\n",
            "\n",
            "Warnings:\n",
            "[1] Covariance matrix calculated using the outer product of gradients (complex-step).\n"
          ]
        }
      ]
    },
    {
      "cell_type": "code",
      "source": [
        "# Option 3 - p=2,q=2,P=2,Q=2\n",
        "order = (2,1,2)\n",
        "seasonal_order = (2,1,2,12)\n",
        "model_fit = sarimax_model(df_car_sales[\"Sales\"],order,seasonal_order)\n",
        "print(model_fit.summary())"
      ],
      "metadata": {
        "colab": {
          "base_uri": "https://localhost:8080/"
        },
        "id": "J4hKAOWiKHtv",
        "outputId": "fe1d8920-0038-4769-80fe-88d3445608bb"
      },
      "execution_count": 38,
      "outputs": [
        {
          "output_type": "stream",
          "name": "stderr",
          "text": [
            "/usr/local/lib/python3.11/dist-packages/statsmodels/tsa/base/tsa_model.py:473: ValueWarning: No frequency information was provided, so inferred frequency MS will be used.\n",
            "  self._init_dates(dates, freq)\n",
            "/usr/local/lib/python3.11/dist-packages/statsmodels/tsa/base/tsa_model.py:473: ValueWarning: No frequency information was provided, so inferred frequency MS will be used.\n",
            "  self._init_dates(dates, freq)\n",
            "/usr/local/lib/python3.11/dist-packages/statsmodels/tsa/statespace/sarimax.py:966: UserWarning: Non-stationary starting autoregressive parameters found. Using zeros as starting parameters.\n",
            "  warn('Non-stationary starting autoregressive parameters'\n",
            "/usr/local/lib/python3.11/dist-packages/statsmodels/tsa/statespace/sarimax.py:978: UserWarning: Non-invertible starting MA parameters found. Using zeros as starting parameters.\n",
            "  warn('Non-invertible starting MA parameters found.'\n",
            "/usr/local/lib/python3.11/dist-packages/statsmodels/tsa/statespace/sarimax.py:1009: UserWarning: Non-invertible starting seasonal moving average Using zeros as starting parameters.\n",
            "  warn('Non-invertible starting seasonal moving average'\n"
          ]
        },
        {
          "output_type": "stream",
          "name": "stdout",
          "text": [
            "                                     SARIMAX Results                                      \n",
            "==========================================================================================\n",
            "Dep. Variable:                              Sales   No. Observations:                  108\n",
            "Model:             SARIMAX(2, 1, 2)x(2, 1, 2, 12)   Log Likelihood                -837.163\n",
            "Date:                            Tue, 08 Apr 2025   AIC                           1692.325\n",
            "Time:                                    02:12:55   BIC                           1715.310\n",
            "Sample:                                01-01-1960   HQIC                          1701.613\n",
            "                                     - 12-01-1968                                         \n",
            "Covariance Type:                              opg                                         \n",
            "==============================================================================\n",
            "                 coef    std err          z      P>|z|      [0.025      0.975]\n",
            "------------------------------------------------------------------------------\n",
            "ar.L1          0.7802      0.789      0.989      0.323      -0.767       2.327\n",
            "ar.L2         -0.0014      0.293     -0.005      0.996      -0.576       0.573\n",
            "ma.L1         -1.4913      0.781     -1.910      0.056      -3.022       0.039\n",
            "ma.L2          0.5176      0.706      0.734      0.463      -0.865       1.900\n",
            "ar.S.L12      -1.3630      0.341     -3.994      0.000      -2.032      -0.694\n",
            "ar.S.L24      -0.6953      0.342     -2.035      0.042      -1.365      -0.026\n",
            "ma.S.L12       1.0410      0.478      2.180      0.029       0.105       1.977\n",
            "ma.S.L24       0.3776      0.503      0.751      0.453      -0.608       1.363\n",
            "sigma2      3.267e+06   5.25e-07   6.23e+12      0.000    3.27e+06    3.27e+06\n",
            "===================================================================================\n",
            "Ljung-Box (L1) (Q):                   0.20   Jarque-Bera (JB):                 2.23\n",
            "Prob(Q):                              0.65   Prob(JB):                         0.33\n",
            "Heteroskedasticity (H):               1.24   Skew:                             0.33\n",
            "Prob(H) (two-sided):                  0.55   Kurtosis:                         2.65\n",
            "===================================================================================\n",
            "\n",
            "Warnings:\n",
            "[1] Covariance matrix calculated using the outer product of gradients (complex-step).\n",
            "[2] Covariance matrix is singular or near-singular, with condition number 1.12e+29. Standard errors may be unstable.\n"
          ]
        },
        {
          "output_type": "stream",
          "name": "stderr",
          "text": [
            "/usr/local/lib/python3.11/dist-packages/statsmodels/base/model.py:607: ConvergenceWarning: Maximum Likelihood optimization failed to converge. Check mle_retvals\n",
            "  warnings.warn(\"Maximum Likelihood optimization failed to \"\n"
          ]
        }
      ]
    },
    {
      "cell_type": "markdown",
      "source": [
        "**Answer E**: I would prefer model iii for the following reasons.\n",
        "\n",
        "    **Model Chosen** : p=2,q=2,P=2,Q=2, d=1, s=12\n",
        "\n",
        "\n",
        "\n",
        "---\n",
        "**Reasons to chose are,**\n",
        "\n",
        "*   This model has the lowest AIC value among the three, suggesting it provides the best fit.\n",
        "\n",
        "*   The Ljung-Box test yields the highest p-value for this model, indicating that the residuals are largely independent, which supports a better model fit.\n",
        "\n",
        "*   The p-values for both the AR and MA coefficients are relatively high, allowing us to reject the null hypothesis that these coefficients are zero. This confirms their significance and aligns well with the model interpretation.\n",
        "\n",
        "\n",
        "\n"
      ],
      "metadata": {
        "id": "B4sKbxqmKmpT"
      }
    }
  ]
}